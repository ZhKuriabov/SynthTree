{
 "cells": [
  {
   "cell_type": "markdown",
   "id": "f5f9518c",
   "metadata": {},
   "source": [
    "# Data Preprocessing"
   ]
  },
  {
   "cell_type": "code",
   "execution_count": 10,
   "id": "b8357b33",
   "metadata": {
    "ExecuteTime": {
     "end_time": "2025-08-17T18:51:28.773722Z",
     "start_time": "2025-08-17T18:51:28.372154Z"
    }
   },
   "outputs": [
    {
     "name": "stdout",
     "output_type": "stream",
     "text": [
      "ℹ Loading Rforestry\n",
      "! Adding files missing in collate:\n",
      "  '/Users/evgeniikuriabov/PycharmProjects/JCGS_review/Rforestry/R/leafCoefficients.R'\n"
     ]
    },
    {
     "name": "stderr",
     "output_type": "stream",
     "text": [
      "R callback write-console: ## \n",
      "##  Rforestry (Version 0.10.1, Build Date: )\n",
      "##  See https://github.com/forestry-labs for additional documentation.\n",
      "##  Please cite software as:\n",
      "##    Soren R. Kunzel, Theo F. Saarinen, Edward W. Liu, Jasjeet S. Sekhon. 2019.\n",
      "##    ''Linear Aggregation in Tree-based Estimators.'' arXiv preprint \n",
      "##    arXiv:1906.06463. https://arxiv.org/abs/1906.06463 \n",
      "##\n",
      "  \n"
     ]
    }
   ],
   "source": [
    "from sklearn.cluster import KMeans\n",
    "from sklearn.linear_model import LinearRegression, LogisticRegression\n",
    "import numpy as np\n",
    "import pandas as pd\n",
    "from sklearn.base import BaseEstimator, ClassifierMixin, RegressorMixin\n",
    "from sklearn.model_selection import GridSearchCV\n",
    "from sklearn.neural_network import MLPRegressor\n",
    "\n",
    "from rpy2 import robjects as ro\n",
    "from rpy2.robjects import r, pandas2ri\n",
    "from rpy2.robjects.packages import importr\n",
    "from rpy2.robjects import default_converter\n",
    "from rpy2.robjects.conversion import localconverter\n",
    "# Load Rforestry package\n",
    "r('if (!requireNamespace(\"devtools\", quietly = TRUE)) install.packages(\"devtools\")')\n",
    "r('library(devtools)')\n",
    "r('devtools::load_all(\"../Rforestry\")')\n",
    "forestry = importr(\"Rforestry\")"
   ]
  },
  {
   "cell_type": "code",
   "execution_count": 3,
   "id": "519d2c0e",
   "metadata": {
    "ExecuteTime": {
     "end_time": "2025-08-17T18:51:05.924790Z",
     "start_time": "2025-08-17T18:51:05.915758Z"
    }
   },
   "outputs": [],
   "source": [
    "from sklearn.model_selection import train_test_split\n",
    "from sklearn.metrics import root_mean_squared_error\n",
    "\n",
    "def rmse(y_true,y_pred):\n",
    "    return root_mean_squared_error(y_true,y_pred)"
   ]
  },
  {
   "cell_type": "code",
   "execution_count": 4,
   "outputs": [],
   "source": [
    "class _ForestryMixin(BaseEstimator):\n",
    "    _ntree: int = 1\n",
    "\n",
    "    def __init__(self):\n",
    "        self.model_ = None\n",
    "\n",
    "    def fit(self, X, y):\n",
    "        with localconverter(default_converter + pandas2ri.converter):\n",
    "            ro.globalenv[\"X\"] = pd.DataFrame(X)\n",
    "            ro.globalenv[\"y\"] = pd.Series(y)\n",
    "        ro.r(f\"model <- forestry(x = X, y = y, ntree = {self._ntree})\")\n",
    "        self.model_ = ro.globalenv[\"model\"]\n",
    "        return self\n",
    "\n",
    "    def _predict_r(self, newX):\n",
    "        with localconverter(default_converter + pandas2ri.converter):\n",
    "            ro.globalenv[\"X_new\"] = pd.DataFrame(newX)\n",
    "        preds = ro.r(\"predict(model, newdata = X_new, feature.new = X_new)\")\n",
    "        return np.asarray(preds, dtype=float)\n",
    "\n",
    "class LRTClassifier(_ForestryMixin, ClassifierMixin):\n",
    "    _ntree = 1\n",
    "    def predict_proba(self, X):\n",
    "        p = self._predict_r(X)\n",
    "        return np.column_stack([1 - p, p])\n",
    "    def predict(self, X):\n",
    "        return (self._predict_r(X) > 0.5).astype(int)\n",
    "\n",
    "class LRTRegressor(_ForestryMixin, RegressorMixin):\n",
    "    _ntree = 1\n",
    "    def predict(self, X):\n",
    "        return self._predict_r(X)\n",
    "    \n",
    "class LRFClassifier:\n",
    "    \"\"\"Light wrapper around Rforestry with adjustable ntree.\"\"\"\n",
    "    def __init__(self, ntree=500):\n",
    "        self._ntree = ntree\n",
    "        self.model_ = None\n",
    "\n",
    "    def fit(self, X, y):\n",
    "        # push into R\n",
    "        with localconverter(default_converter + pandas2ri.converter):\n",
    "            ro.globalenv[\"X\"] = pd.DataFrame(X)\n",
    "            ro.globalenv[\"y\"] = pd.Series(y)\n",
    "        # call forestry()\n",
    "        ro.r(f\"model <- forestry(x = X, y = y, ntree = {self._ntree})\")\n",
    "        self.model_ = ro.globalenv[\"model\"]\n",
    "        return self\n",
    "\n",
    "    def predict(self, X):\n",
    "        # push new data\n",
    "        with localconverter(default_converter + pandas2ri.converter):\n",
    "            ro.globalenv[\"X_new\"] = pd.DataFrame(X)\n",
    "        preds = ro.r(\"predict(model, newdata = X_new, feature.new = X_new)\")\n",
    "        # threshold at 0.5\n",
    "        return (np.asarray(preds, dtype=float) > 0.5).astype(int)\n",
    "    \n",
    "class LRFRegressor:\n",
    "    \"\"\"Light wrapper around Rforestry with adjustable ntree.\"\"\"\n",
    "    def __init__(self, ntree=500):\n",
    "        self._ntree = ntree\n",
    "        self.model_ = None\n",
    "\n",
    "    def fit(self, X, y):\n",
    "        # push into R\n",
    "        with localconverter(default_converter + pandas2ri.converter):\n",
    "            ro.globalenv[\"X\"] = pd.DataFrame(X)\n",
    "            ro.globalenv[\"y\"] = pd.Series(y)\n",
    "        # call forestry()\n",
    "        ro.r(f\"model <- forestry(x = X, y = y, ntree = {self._ntree})\")\n",
    "        self.model_ = ro.globalenv[\"model\"]\n",
    "        return self\n",
    "\n",
    "    def predict(self, X):\n",
    "        # push new data\n",
    "        with localconverter(default_converter + pandas2ri.converter):\n",
    "            ro.globalenv[\"X_new\"] = pd.DataFrame(X)\n",
    "        preds = ro.r(\"predict(model, newdata = X_new, feature.new = X_new)\")\n",
    "        return np.asarray(preds, dtype=float)"
   ],
   "metadata": {
    "collapsed": false,
    "ExecuteTime": {
     "end_time": "2025-08-17T18:51:06.452540Z",
     "start_time": "2025-08-17T18:51:06.443758Z"
    }
   },
   "id": "f31e06eeb9c61699"
  },
  {
   "cell_type": "code",
   "execution_count": 5,
   "id": "0fad2b06",
   "metadata": {
    "scrolled": true,
    "ExecuteTime": {
     "end_time": "2025-08-17T18:51:07.183017Z",
     "start_time": "2025-08-17T18:51:07.156670Z"
    }
   },
   "outputs": [
    {
     "name": "stdout",
     "output_type": "stream",
     "text": [
      "(17379, 16) (17379,)\n"
     ]
    },
    {
     "data": {
      "text/plain": "['yr',\n 'mnth',\n 'hr',\n 'holiday',\n 'weekday',\n 'workingday',\n 'temp',\n 'atemp',\n 'hum',\n 'windspeed',\n 'season_0',\n 'season_1',\n 'season_2',\n 'weathersit_0',\n 'weathersit_1',\n 'weathersit_2']"
     },
     "execution_count": 5,
     "metadata": {},
     "output_type": "execute_result"
    }
   ],
   "source": [
    "# read Bike Sharing data\n",
    "path = './data/'\n",
    "df = pd.read_csv(path + \"hour.csv.gz\", compression=\"gzip\")\n",
    "\n",
    "orig_predictor_headers = list(df)\n",
    "outcome_header = \"cnt\"\n",
    "used_headers = orig_predictor_headers\n",
    "used_headers.remove(\"instant\")\n",
    "used_headers.remove(\"dteday\")\n",
    "used_headers.remove(\"casual\")\n",
    "used_headers.remove(\"registered\")\n",
    "df2 = df[used_headers]\n",
    "\n",
    "def add_dummy(v, data):\n",
    "    dummy_cols = v\n",
    "    dummy = pd.get_dummies(df[dummy_cols], drop_first=True, dtype=float)\n",
    "    dummy.columns = [dummy_cols+\"_{}\".format(i) for i in range(dummy.shape[1])]\n",
    "    data = pd.concat([data, dummy], axis=1)\n",
    "    data.drop([dummy_cols], axis=1, inplace=True)\n",
    "    return data\n",
    "\n",
    "USE_DUMMIES = True\n",
    "if USE_DUMMIES:\n",
    "    data = df2\n",
    "    data = add_dummy('season',data)\n",
    "    data = add_dummy('weathersit',data)\n",
    "    \n",
    "feature_names = list(data)\n",
    "feature_names.remove('cnt')\n",
    "\n",
    "y = data['cnt'].values\n",
    "X = data[feature_names].values\n",
    "\n",
    "print(X.shape, y.shape)\n",
    "feature_names"
   ]
  },
  {
   "cell_type": "code",
   "execution_count": 6,
   "id": "854ccb1a",
   "metadata": {
    "ExecuteTime": {
     "end_time": "2025-08-17T18:51:08.044977Z",
     "start_time": "2025-08-17T18:51:08.037761Z"
    }
   },
   "outputs": [],
   "source": [
    "feature_names_2 = [\n",
    "'Year', \n",
    "'Month',\n",
    "'Hour',\n",
    "'Holiday', \n",
    "'Weekday', \n",
    "'Working day', \n",
    "'Temperature',                   \n",
    "'Feeling temp',                     \n",
    "'Humidity', \n",
    "'Wind speed',\n",
    "'season_0',\n",
    "'season_1',\n",
    "'season_2',\n",
    "'weathersit_0',\n",
    "'weathersit_1',\n",
    "'weathersit_2']"
   ]
  },
  {
   "cell_type": "code",
   "execution_count": 7,
   "id": "60bdf3d8",
   "metadata": {
    "ExecuteTime": {
     "end_time": "2025-08-17T18:51:09.277698Z",
     "start_time": "2025-08-17T18:51:09.260625Z"
    }
   },
   "outputs": [],
   "source": [
    "X_train, X_test, y_train, y_test = train_test_split(X, y, test_size=0.2, random_state=0)"
   ]
  },
  {
   "cell_type": "code",
   "execution_count": 8,
   "id": "2ed18e47",
   "metadata": {
    "ExecuteTime": {
     "end_time": "2025-08-17T18:51:16.808706Z",
     "start_time": "2025-08-17T18:51:12.982946Z"
    }
   },
   "outputs": [
    {
     "name": "stdout",
     "output_type": "stream",
     "text": [
      "rmse train: 16.13746742238421\n",
      "rmse test: 44.237832405877306\n"
     ]
    }
   ],
   "source": [
    "from sklearn.ensemble import GradientBoostingClassifier, RandomForestClassifier, GradientBoostingRegressor, RandomForestRegressor\n",
    "\n",
    "clf_1 = RandomForestRegressor()\n",
    "clf_1.fit(X_train, y_train)\n",
    "print('rmse train:', rmse(clf_1.predict(X_train), y_train))\n",
    "print('rmse test:', rmse(clf_1.predict(X_test), y_test))"
   ]
  },
  {
   "cell_type": "code",
   "execution_count": 9,
   "id": "27645d6f",
   "metadata": {
    "ExecuteTime": {
     "end_time": "2025-08-17T18:51:17.681257Z",
     "start_time": "2025-08-17T18:51:16.807776Z"
    }
   },
   "outputs": [
    {
     "name": "stdout",
     "output_type": "stream",
     "text": [
      "rmse train: 67.70735321983406\n",
      "rmse test: 70.79570948464193\n"
     ]
    }
   ],
   "source": [
    "clf_2 = GradientBoostingRegressor()\n",
    "clf_2.fit(X_train, y_train)\n",
    "print('rmse train:', rmse(clf_2.predict(X_train), y_train))\n",
    "print('rmse test:', rmse(clf_2.predict(X_test), y_test))"
   ]
  },
  {
   "cell_type": "code",
   "execution_count": 9,
   "id": "3100ee9b",
   "metadata": {
    "ExecuteTime": {
     "end_time": "2025-08-17T18:13:42.791614Z",
     "start_time": "2025-08-17T18:12:29.803671Z"
    }
   },
   "outputs": [
    {
     "name": "stdout",
     "output_type": "stream",
     "text": [
      "rmse train: 93.57666866398411\n",
      "rmse test: 96.02432753385985\n"
     ]
    },
    {
     "name": "stderr",
     "output_type": "stream",
     "text": [
      "/Users/evgeniikuriabov/PycharmProjects/JCGS_review/venv/lib/python3.9/site-packages/sklearn/neural_network/_multilayer_perceptron.py:691: ConvergenceWarning: Stochastic Optimizer: Maximum iterations (1000) reached and the optimization hasn't converged yet.\n",
      "  warnings.warn(\n"
     ]
    }
   ],
   "source": [
    "clf_3 = MLPRegressor(random_state=1, max_iter=1000)\n",
    "clf_3.fit(X_train, y_train)\n",
    "print('rmse train:', rmse(clf_3.predict(X_train), y_train))\n",
    "print('rmse test:', rmse(clf_3.predict(X_test), y_test))"
   ]
  },
  {
   "cell_type": "code",
   "execution_count": 10,
   "id": "198392e6",
   "metadata": {
    "scrolled": true,
    "ExecuteTime": {
     "end_time": "2025-08-17T18:14:19.906315Z",
     "start_time": "2025-08-17T18:13:42.807282Z"
    }
   },
   "outputs": [
    {
     "name": "stdout",
     "output_type": "stream",
     "text": [
      "Train: 23.46505537479559\n",
      "Test: 54.41726548130009\n"
     ]
    }
   ],
   "source": [
    "clf_4 = LRFRegressor()\n",
    "\n",
    "clf_4.fit(X_train, y_train)\n",
    "\n",
    "forest_preds_train = clf_4.predict(X_train)\n",
    "forest_preds = clf_4.predict(X_test)\n",
    "\n",
    "print(\"Train:\", rmse(y_train, forest_preds_train))\n",
    "print(\"Test:\", rmse(y_test, forest_preds))"
   ]
  },
  {
   "cell_type": "code",
   "execution_count": 11,
   "id": "c8f7d60f",
   "metadata": {
    "ExecuteTime": {
     "end_time": "2025-08-17T18:14:20.122480Z",
     "start_time": "2025-08-17T18:14:19.905023Z"
    }
   },
   "outputs": [
    {
     "name": "stdout",
     "output_type": "stream",
     "text": [
      "Train DT: 0.5210452648487369\n",
      "Test DT: 59.21024397808849 depth 30\n",
      "Train: 140.02169796429774\n",
      "Test: 143.19792214293304\n"
     ]
    }
   ],
   "source": [
    "from sklearn.ensemble import GradientBoostingClassifier, RandomForestClassifier, GradientBoostingRegressor, RandomForestRegressor\n",
    "from sklearn import tree as tr\n",
    "\n",
    "m1 = tr.DecisionTreeRegressor()\n",
    "m1.fit(X_train, y_train)\n",
    "m1_pred = m1.predict(X_train)\n",
    "m1_pred_test = m1.predict(X_test)\n",
    "print(\"Train DT:\", rmse(m1_pred, y_train))\n",
    "print(\"Test DT:\", rmse(m1_pred_test, y_test), \"depth\", m1.get_depth())\n",
    "\n",
    "m = LinearRegression()\n",
    "m.fit(X_train, y_train)\n",
    "m_pred = m.predict(X_train)\n",
    "m_pred_test = m.predict(X_test)\n",
    "print(\"Train:\", rmse(m_pred, y_train))\n",
    "print(\"Test:\", rmse(m_pred_test, y_test))"
   ]
  },
  {
   "cell_type": "code",
   "execution_count": 12,
   "id": "baa0be3c",
   "metadata": {
    "ExecuteTime": {
     "end_time": "2025-08-17T18:14:20.138428Z",
     "start_time": "2025-08-17T18:14:20.107302Z"
    }
   },
   "outputs": [
    {
     "data": {
      "text/plain": "13164"
     },
     "execution_count": 12,
     "metadata": {},
     "output_type": "execute_result"
    }
   ],
   "source": [
    "m1.get_n_leaves()"
   ]
  },
  {
   "cell_type": "code",
   "execution_count": 13,
   "id": "c6ed2970",
   "metadata": {
    "ExecuteTime": {
     "end_time": "2025-08-17T18:14:21.404922Z",
     "start_time": "2025-08-17T18:14:20.117067Z"
    }
   },
   "outputs": [
    {
     "name": "stdout",
     "output_type": "stream",
     "text": [
      "Train: 53.828302869266146\n",
      "Test: 88.62250789628972\n"
     ]
    }
   ],
   "source": [
    "fr = LRTRegressor()\n",
    "\n",
    "fr.fit(X_train, y_train)\n",
    "\n",
    "forest_preds_train = fr.predict(X_train)\n",
    "forest_preds = fr.predict(X_test)\n",
    "\n",
    "print(\"Train:\", rmse(y_train, forest_preds_train))\n",
    "print(\"Test:\", rmse(y_test, forest_preds))"
   ]
  },
  {
   "cell_type": "markdown",
   "id": "0f9cf506",
   "metadata": {},
   "source": [
    "# MLM Method"
   ]
  },
  {
   "cell_type": "code",
   "execution_count": 14,
   "id": "0bd4dbbc",
   "metadata": {
    "ExecuteTime": {
     "end_time": "2025-08-17T18:14:25.311944Z",
     "start_time": "2025-08-17T18:14:21.402277Z"
    }
   },
   "outputs": [
    {
     "name": "stderr",
     "output_type": "stream",
     "text": [
      "/Users/evgeniikuriabov/PycharmProjects/JCGS_review/venv/lib/python3.9/site-packages/urllib3/__init__.py:35: NotOpenSSLWarning: urllib3 v2 only supports OpenSSL 1.1.1+, currently the 'ssl' module is compiled with 'LibreSSL 2.8.3'. See: https://github.com/urllib3/urllib3/issues/3020\n",
      "  warnings.warn(\n"
     ]
    }
   ],
   "source": [
    "from generalized_mlm import MixtureLinearModel"
   ]
  },
  {
   "cell_type": "code",
   "execution_count": 15,
   "id": "ceede319",
   "metadata": {
    "ExecuteTime": {
     "end_time": "2025-08-17T18:14:25.519856Z",
     "start_time": "2025-08-17T18:14:25.313788Z"
    }
   },
   "outputs": [],
   "source": [
    "clfs = [clf_1, clf_2, clf_3, clf_4]\n",
    "\n",
    "sorted_clf = []\n",
    "for i in clfs:\n",
    "    sorted_clf.append((i, rmse(i.predict(X_test), y_test)))\n",
    "sorted_clf = sorted(sorted_clf, key=lambda x: x[1])"
   ]
  },
  {
   "cell_type": "code",
   "execution_count": 16,
   "id": "defade23",
   "metadata": {
    "ExecuteTime": {
     "end_time": "2025-08-17T18:14:25.531302Z",
     "start_time": "2025-08-17T18:14:25.524396Z"
    }
   },
   "outputs": [],
   "source": [
    "avg_variance = np.mean(np.var(X_train, axis=0))"
   ]
  },
  {
   "cell_type": "code",
   "execution_count": 17,
   "id": "a8653022",
   "metadata": {
    "ExecuteTime": {
     "end_time": "2025-08-17T18:14:25.536331Z",
     "start_time": "2025-08-17T18:14:25.528546Z"
    }
   },
   "outputs": [],
   "source": [
    "MLM = MixtureLinearModel(sorted_clf, verbose=True)"
   ]
  },
  {
   "cell_type": "code",
   "execution_count": 18,
   "id": "c84f94e7",
   "metadata": {
    "ExecuteTime": {
     "end_time": "2025-08-17T18:14:25.908549Z",
     "start_time": "2025-08-17T18:14:25.536093Z"
    }
   },
   "outputs": [
    {
     "name": "stderr",
     "output_type": "stream",
     "text": [
      "/var/folders/q_/zp5hvt_11ggbtgc0n5grlrpc0000gn/T/ipykernel_64159/3400188333.py:1: DeprecationWarning: `product` is deprecated as of NumPy 1.25.0, and will be removed in NumPy 2.0. Please use `prod` instead.\n",
      "  MLM.compute_kmeans_CELL(X_train, K=100, random_seed=0)\n"
     ]
    },
    {
     "name": "stdout",
     "output_type": "stream",
     "text": [
      "16 (16,)\n",
      "# of CELL:100 / min size:82 / avg size:139.0 / max size:206 / # of singleton CELL:0\n"
     ]
    }
   ],
   "source": [
    "MLM.compute_kmeans_CELL(X_train, K=100, random_seed=0)"
   ]
  },
  {
   "cell_type": "code",
   "execution_count": 19,
   "id": "eb4f551c",
   "metadata": {
    "scrolled": true,
    "ExecuteTime": {
     "end_time": "2025-08-17T18:14:29.729626Z",
     "start_time": "2025-08-17T18:14:25.900560Z"
    }
   },
   "outputs": [
    {
     "name": "stderr",
     "output_type": "stream",
     "text": [
      "100%|██████████| 100/100 [00:00<00:00, 195.86it/s]\n",
      "100%|██████████| 100/100 [00:00<00:00, 4645.52it/s]\n"
     ]
    }
   ],
   "source": [
    "MLM.fit_LocalModels(X_train, y_train, \n",
    "                    eps=0.01, num_noise_samp=100, \n",
    "                    classification=False, alpha=0, max_iter=10000, random_seed=0)"
   ]
  },
  {
   "cell_type": "code",
   "execution_count": 20,
   "id": "b56c147a",
   "metadata": {
    "ExecuteTime": {
     "end_time": "2025-08-17T18:14:30.611772Z",
     "start_time": "2025-08-17T18:14:29.722010Z"
    }
   },
   "outputs": [
    {
     "name": "stderr",
     "output_type": "stream",
     "text": [
      "100%|██████████| 100/100 [00:00<00:00, 35699.24it/s]\n",
      "100%|██████████| 100/100 [00:00<00:00, 391.37it/s]\n",
      "100%|██████████| 100/100 [00:00<00:00, 6280.21it/s]\n",
      "100%|██████████| 100/100 [00:00<00:00, 596.71it/s]\n"
     ]
    }
   ],
   "source": [
    "pred_lmm_train = MLM.predict(X_train, covariance_type='full', covariance_tied=True, uniform_prior=False)\n",
    "pred_lmm_test = MLM.predict(X_test, covariance_type='full', covariance_tied=True, uniform_prior=False)"
   ]
  },
  {
   "cell_type": "code",
   "execution_count": 21,
   "id": "40207ef6",
   "metadata": {
    "ExecuteTime": {
     "end_time": "2025-08-17T18:14:30.624959Z",
     "start_time": "2025-08-17T18:14:30.610506Z"
    }
   },
   "outputs": [
    {
     "name": "stdout",
     "output_type": "stream",
     "text": [
      "MLM-CELL: Train RMSE:63.876 / Test RMSE:67.609\n"
     ]
    }
   ],
   "source": [
    "print('MLM-CELL: Train RMSE:{:3.3f} / Test RMSE:{:3.3f}'.format(\n",
    "            rmse(y_train, np.array(pred_lmm_train)),\n",
    "            rmse(y_test, np.array(pred_lmm_test))))"
   ]
  },
  {
   "cell_type": "code",
   "execution_count": 22,
   "id": "933f8b34",
   "metadata": {
    "ExecuteTime": {
     "end_time": "2025-08-17T18:14:31.065158Z",
     "start_time": "2025-08-17T18:14:30.618233Z"
    }
   },
   "outputs": [
    {
     "name": "stderr",
     "output_type": "stream",
     "text": [
      "100%|██████████| 100/100 [00:00<00:00, 248.88it/s]\n",
      "/Users/evgeniikuriabov/PycharmProjects/JCGS_review/SynthTree/generalized_mlm.py:403: ClusterWarning: The symmetric non-negative hollow observation matrix looks suspiciously like an uncondensed distance matrix\n",
      "  LocalModelsTree = linkage(self.dist_mat_avg, 'ward')\n",
      "100%|██████████| 98/98 [00:00<00:00, 4417.62it/s]\n"
     ]
    }
   ],
   "source": [
    "MLM.fit_MergedLocalModels(150, classification=False, alpha=0, max_iter=1000, random_seed=0)"
   ]
  },
  {
   "cell_type": "code",
   "execution_count": 23,
   "id": "38641b85",
   "metadata": {
    "ExecuteTime": {
     "end_time": "2025-08-17T18:14:32.035370Z",
     "start_time": "2025-08-17T18:14:31.115949Z"
    }
   },
   "outputs": [
    {
     "name": "stderr",
     "output_type": "stream",
     "text": [
      "100%|██████████| 100/100 [00:00<00:00, 34317.66it/s]\n",
      "100%|██████████| 98/98 [00:00<00:00, 246.25it/s]\n",
      "100%|██████████| 100/100 [00:00<00:00, 2412.89it/s]\n",
      "100%|██████████| 98/98 [00:00<00:00, 967.82it/s]\n"
     ]
    }
   ],
   "source": [
    "pred_epic_train = MLM.predict(X_train,  merged=True, \n",
    "                covariance_type='full', covariance_tied=True, uniform_prior=False)\n",
    "pred_epic_test = MLM.predict(X_test, merged=True, \n",
    "                covariance_type='full', covariance_tied=True, uniform_prior=False)"
   ]
  },
  {
   "cell_type": "code",
   "execution_count": 24,
   "id": "54692513",
   "metadata": {
    "ExecuteTime": {
     "end_time": "2025-08-17T18:14:32.041378Z",
     "start_time": "2025-08-17T18:14:32.035026Z"
    }
   },
   "outputs": [
    {
     "name": "stdout",
     "output_type": "stream",
     "text": [
      "MLM-EPIC: Train RMSE:63.970 / Test RMSE:67.520\n"
     ]
    }
   ],
   "source": [
    "print('MLM-EPIC: Train RMSE:{:3.3f} / Test RMSE:{:3.3f}'.format(\n",
    "            rmse(y_train, np.array(pred_epic_train)),\n",
    "            rmse(y_test, np.array(pred_epic_test))))"
   ]
  },
  {
   "cell_type": "code",
   "execution_count": 25,
   "id": "49f4c68f",
   "metadata": {
    "scrolled": true,
    "ExecuteTime": {
     "end_time": "2025-08-17T18:19:23.880405Z",
     "start_time": "2025-08-17T18:14:32.041195Z"
    }
   },
   "outputs": [
    {
     "name": "stderr",
     "output_type": "stream",
     "text": [
      "/var/folders/q_/zp5hvt_11ggbtgc0n5grlrpc0000gn/T/ipykernel_64159/2344323731.py:21: DeprecationWarning: `product` is deprecated as of NumPy 1.25.0, and will be removed in NumPy 2.0. Please use `prod` instead.\n",
      "  MLM.compute_kmeans_CELL(X_train, K=100, random_seed=None)\n"
     ]
    },
    {
     "name": "stdout",
     "output_type": "stream",
     "text": [
      "16 (16,)\n",
      "# of CELL:100 / min size:83 / avg size:139.0 / max size:214 / # of singleton CELL:0\n"
     ]
    },
    {
     "name": "stderr",
     "output_type": "stream",
     "text": [
      "100%|██████████| 100/100 [00:00<00:00, 158.69it/s]\n",
      "100%|██████████| 100/100 [00:00<00:00, 4836.27it/s]\n",
      "100%|██████████| 100/100 [00:00<00:00, 67173.35it/s]\n",
      "100%|██████████| 100/100 [00:00<00:00, 447.20it/s]\n",
      "100%|██████████| 100/100 [00:00<00:00, 328192.80it/s]\n",
      "100%|██████████| 100/100 [00:00<00:00, 639.07it/s]\n",
      "100%|██████████| 100/100 [00:00<00:00, 264.34it/s]\n",
      "/Users/evgeniikuriabov/PycharmProjects/JCGS_review/SynthTree/generalized_mlm.py:403: ClusterWarning: The symmetric non-negative hollow observation matrix looks suspiciously like an uncondensed distance matrix\n",
      "  LocalModelsTree = linkage(self.dist_mat_avg, 'ward')\n",
      "100%|██████████| 98/98 [00:00<00:00, 5092.51it/s]\n",
      "100%|██████████| 100/100 [00:00<00:00, 30127.17it/s]\n",
      "100%|██████████| 98/98 [00:00<00:00, 533.23it/s]\n",
      "100%|██████████| 100/100 [00:00<00:00, 26674.54it/s]\n",
      "100%|██████████| 98/98 [00:00<00:00, 594.61it/s]\n",
      "/Users/evgeniikuriabov/PycharmProjects/JCGS_review/venv/lib/python3.9/site-packages/sklearn/neural_network/_multilayer_perceptron.py:691: ConvergenceWarning: Stochastic Optimizer: Maximum iterations (1000) reached and the optimization hasn't converged yet.\n",
      "  warnings.warn(\n",
      "/var/folders/q_/zp5hvt_11ggbtgc0n5grlrpc0000gn/T/ipykernel_64159/2344323731.py:21: DeprecationWarning: `product` is deprecated as of NumPy 1.25.0, and will be removed in NumPy 2.0. Please use `prod` instead.\n",
      "  MLM.compute_kmeans_CELL(X_train, K=100, random_seed=None)\n"
     ]
    },
    {
     "name": "stdout",
     "output_type": "stream",
     "text": [
      "16 (16,)\n",
      "# of CELL:100 / min size:92 / avg size:139.0 / max size:202 / # of singleton CELL:0\n"
     ]
    },
    {
     "name": "stderr",
     "output_type": "stream",
     "text": [
      "100%|██████████| 100/100 [00:00<00:00, 166.78it/s]\n",
      "100%|██████████| 100/100 [00:00<00:00, 4837.00it/s]\n",
      "100%|██████████| 100/100 [00:00<00:00, 24679.64it/s]\n",
      "100%|██████████| 100/100 [00:00<00:00, 449.42it/s]\n",
      "100%|██████████| 100/100 [00:00<00:00, 33423.41it/s]\n",
      "100%|██████████| 100/100 [00:00<00:00, 736.42it/s]\n",
      "100%|██████████| 100/100 [00:00<00:00, 337.32it/s]\n",
      "/Users/evgeniikuriabov/PycharmProjects/JCGS_review/SynthTree/generalized_mlm.py:403: ClusterWarning: The symmetric non-negative hollow observation matrix looks suspiciously like an uncondensed distance matrix\n",
      "  LocalModelsTree = linkage(self.dist_mat_avg, 'ward')\n",
      "100%|██████████| 98/98 [00:00<00:00, 5059.66it/s]\n",
      "100%|██████████| 100/100 [00:00<00:00, 32950.77it/s]\n",
      "100%|██████████| 98/98 [00:00<00:00, 470.27it/s]\n",
      "100%|██████████| 100/100 [00:00<00:00, 171546.18it/s]\n",
      "100%|██████████| 98/98 [00:00<00:00, 740.75it/s]\n",
      "/Users/evgeniikuriabov/PycharmProjects/JCGS_review/venv/lib/python3.9/site-packages/sklearn/neural_network/_multilayer_perceptron.py:691: ConvergenceWarning: Stochastic Optimizer: Maximum iterations (1000) reached and the optimization hasn't converged yet.\n",
      "  warnings.warn(\n",
      "/var/folders/q_/zp5hvt_11ggbtgc0n5grlrpc0000gn/T/ipykernel_64159/2344323731.py:21: DeprecationWarning: `product` is deprecated as of NumPy 1.25.0, and will be removed in NumPy 2.0. Please use `prod` instead.\n",
      "  MLM.compute_kmeans_CELL(X_train, K=100, random_seed=None)\n"
     ]
    },
    {
     "name": "stdout",
     "output_type": "stream",
     "text": [
      "16 (16,)\n",
      "# of CELL:100 / min size:80 / avg size:139.0 / max size:197 / # of singleton CELL:0\n"
     ]
    },
    {
     "name": "stderr",
     "output_type": "stream",
     "text": [
      "100%|██████████| 100/100 [00:00<00:00, 163.93it/s]\n",
      "100%|██████████| 100/100 [00:00<00:00, 4978.17it/s]\n",
      "100%|██████████| 100/100 [00:00<00:00, 30303.48it/s]\n",
      "100%|██████████| 100/100 [00:00<00:00, 442.22it/s]\n",
      "100%|██████████| 100/100 [00:00<00:00, 18406.57it/s]\n",
      "100%|██████████| 100/100 [00:00<00:00, 827.66it/s]\n",
      "100%|██████████| 100/100 [00:00<00:00, 278.79it/s]\n",
      "/Users/evgeniikuriabov/PycharmProjects/JCGS_review/SynthTree/generalized_mlm.py:403: ClusterWarning: The symmetric non-negative hollow observation matrix looks suspiciously like an uncondensed distance matrix\n",
      "  LocalModelsTree = linkage(self.dist_mat_avg, 'ward')\n",
      "100%|██████████| 98/98 [00:00<00:00, 5071.90it/s]\n",
      "100%|██████████| 100/100 [00:00<00:00, 35445.82it/s]\n",
      "100%|██████████| 98/98 [00:00<00:00, 508.89it/s]\n",
      "100%|██████████| 100/100 [00:00<00:00, 284939.13it/s]\n",
      "100%|██████████| 98/98 [00:00<00:00, 666.44it/s]\n",
      "/Users/evgeniikuriabov/PycharmProjects/JCGS_review/venv/lib/python3.9/site-packages/sklearn/neural_network/_multilayer_perceptron.py:691: ConvergenceWarning: Stochastic Optimizer: Maximum iterations (1000) reached and the optimization hasn't converged yet.\n",
      "  warnings.warn(\n",
      "/var/folders/q_/zp5hvt_11ggbtgc0n5grlrpc0000gn/T/ipykernel_64159/2344323731.py:21: DeprecationWarning: `product` is deprecated as of NumPy 1.25.0, and will be removed in NumPy 2.0. Please use `prod` instead.\n",
      "  MLM.compute_kmeans_CELL(X_train, K=100, random_seed=None)\n"
     ]
    },
    {
     "name": "stdout",
     "output_type": "stream",
     "text": [
      "16 (16,)\n",
      "# of CELL:100 / min size:71 / avg size:139.0 / max size:212 / # of singleton CELL:0\n"
     ]
    },
    {
     "name": "stderr",
     "output_type": "stream",
     "text": [
      "100%|██████████| 100/100 [00:00<00:00, 157.08it/s]\n",
      "100%|██████████| 100/100 [00:00<00:00, 4896.23it/s]\n",
      "100%|██████████| 100/100 [00:00<00:00, 31585.99it/s]\n",
      "100%|██████████| 100/100 [00:00<00:00, 394.41it/s]\n",
      "100%|██████████| 100/100 [00:00<00:00, 29549.84it/s]\n",
      "100%|██████████| 100/100 [00:00<00:00, 832.79it/s]\n",
      "100%|██████████| 100/100 [00:00<00:00, 292.45it/s]\n",
      "/Users/evgeniikuriabov/PycharmProjects/JCGS_review/SynthTree/generalized_mlm.py:403: ClusterWarning: The symmetric non-negative hollow observation matrix looks suspiciously like an uncondensed distance matrix\n",
      "  LocalModelsTree = linkage(self.dist_mat_avg, 'ward')\n",
      "100%|██████████| 98/98 [00:00<00:00, 5242.61it/s]\n",
      "100%|██████████| 100/100 [00:00<00:00, 33656.75it/s]\n",
      "100%|██████████| 98/98 [00:00<00:00, 520.57it/s]\n",
      "100%|██████████| 100/100 [00:00<00:00, 291473.52it/s]\n",
      "100%|██████████| 98/98 [00:00<00:00, 618.66it/s]\n",
      "/var/folders/q_/zp5hvt_11ggbtgc0n5grlrpc0000gn/T/ipykernel_64159/2344323731.py:21: DeprecationWarning: `product` is deprecated as of NumPy 1.25.0, and will be removed in NumPy 2.0. Please use `prod` instead.\n",
      "  MLM.compute_kmeans_CELL(X_train, K=100, random_seed=None)\n"
     ]
    },
    {
     "name": "stdout",
     "output_type": "stream",
     "text": [
      "16 (16,)\n",
      "# of CELL:100 / min size:99 / avg size:139.0 / max size:216 / # of singleton CELL:0\n"
     ]
    },
    {
     "name": "stderr",
     "output_type": "stream",
     "text": [
      "100%|██████████| 100/100 [00:00<00:00, 169.71it/s]\n",
      "100%|██████████| 100/100 [00:00<00:00, 4788.56it/s]\n",
      "100%|██████████| 100/100 [00:00<00:00, 27374.39it/s]\n",
      "100%|██████████| 100/100 [00:00<00:00, 679.41it/s]\n",
      "100%|██████████| 100/100 [00:00<00:00, 57471.96it/s]\n",
      "100%|██████████| 100/100 [00:00<00:00, 645.62it/s]\n",
      "100%|██████████| 100/100 [00:00<00:00, 225.45it/s]\n",
      "/Users/evgeniikuriabov/PycharmProjects/JCGS_review/SynthTree/generalized_mlm.py:403: ClusterWarning: The symmetric non-negative hollow observation matrix looks suspiciously like an uncondensed distance matrix\n",
      "  LocalModelsTree = linkage(self.dist_mat_avg, 'ward')\n",
      "100%|██████████| 98/98 [00:00<00:00, 5044.51it/s]\n",
      "100%|██████████| 100/100 [00:00<00:00, 28443.67it/s]\n",
      "100%|██████████| 98/98 [00:00<00:00, 490.18it/s]\n",
      "100%|██████████| 100/100 [00:00<00:00, 311612.48it/s]\n",
      "100%|██████████| 98/98 [00:00<00:00, 924.52it/s]\n"
     ]
    }
   ],
   "source": [
    "MLM_results_5_run_test = []\n",
    "MLM_results_5_run_train = []\n",
    "for run in range(5):\n",
    "    X_train, X_test, y_train, y_test = train_test_split(X, y, test_size=0.2, random_state=None)\n",
    "    clf_1 = RandomForestRegressor()\n",
    "    clf_1.fit(X_train, y_train)\n",
    "    clf_2 = GradientBoostingRegressor()\n",
    "    clf_2.fit(X_train, y_train)\n",
    "    clf_3 = MLPRegressor(random_state=None, max_iter=1000)\n",
    "    clf_3.fit(X_train, y_train)\n",
    "    clfs = [clf_1, clf_2, clf_3]\n",
    "#     clfs = [clf_3]\n",
    "    sorted_clf = []\n",
    "    for i in clfs:\n",
    "        sorted_clf.append((i, rmse(i.predict(X_test), y_test)))\n",
    "    sorted_clf = sorted(sorted_clf, key=lambda x: x[1])\n",
    "    avg_variance = np.mean(np.var(X_train, axis=0))\n",
    "    MLM = MixtureLinearModel(sorted_clf, verbose=True)\n",
    "    MLM.compute_kmeans_CELL(X_train, K=100, random_seed=None)\n",
    "    MLM.fit_LocalModels(X_train, y_train, \n",
    "                    eps=0.01, num_noise_samp=100, \n",
    "                    classification=False, alpha=0, max_iter=10000, random_seed=None)\n",
    "    pred_lmm_train = MLM.predict(X_train, covariance_type='full', covariance_tied=True, uniform_prior=False)\n",
    "    pred_lmm_test = MLM.predict(X_test, covariance_type='full', covariance_tied=True, uniform_prior=False)\n",
    "    MLM.fit_MergedLocalModels(150, classification=False, alpha=0, max_iter=1000, random_seed=None)\n",
    "    pred_epic_train = MLM.predict(X_train,  merged=True, \n",
    "                covariance_type='full', covariance_tied=True, uniform_prior=False)\n",
    "    pred_epic_test = MLM.predict(X_test, merged=True, \n",
    "                covariance_type='full', covariance_tied=True, uniform_prior=False)\n",
    "    \n",
    "    MLM_results_5_run_train.append(rmse(y_train, np.array(pred_epic_train)))\n",
    "    MLM_results_5_run_test.append(rmse(y_test, np.array(pred_epic_test)))"
   ]
  },
  {
   "cell_type": "code",
   "execution_count": 26,
   "id": "8ef2cc5a",
   "metadata": {
    "ExecuteTime": {
     "end_time": "2025-08-17T18:19:23.886585Z",
     "start_time": "2025-08-17T18:19:23.882773Z"
    }
   },
   "outputs": [
    {
     "name": "stdout",
     "output_type": "stream",
     "text": [
      "Train: [63.74595222743136, 64.33946314277864, 63.11157943247537, 65.508779881434, 64.6599541579992] \n",
      "Test: [68.75469305376586, 66.68084234951567, 68.4935777976057, 72.01625225025664, 66.24964336572063]\n",
      "std test: 2.0388121687962246\n",
      "Mean test: 68.4390017633729\n"
     ]
    }
   ],
   "source": [
    "#Results\n",
    "print(\"Train:\", MLM_results_5_run_train, \"\\nTest:\", MLM_results_5_run_test)\n",
    "print('std test:', np.std(MLM_results_5_run_test))\n",
    "print('Mean test:', np.mean(MLM_results_5_run_test))"
   ]
  },
  {
   "cell_type": "markdown",
   "id": "c5443dbf",
   "metadata": {},
   "source": [
    "# SynthTree"
   ]
  },
  {
   "cell_type": "markdown",
   "id": "dffe804e",
   "metadata": {},
   "source": [
    "### Selecting the best K"
   ]
  },
  {
   "cell_type": "code",
   "execution_count": 11,
   "id": "42253447",
   "metadata": {
    "ExecuteTime": {
     "end_time": "2025-08-17T18:51:37.534881Z",
     "start_time": "2025-08-17T18:51:37.513021Z"
    }
   },
   "outputs": [],
   "source": [
    "from sklearn.metrics import f1_score\n",
    "import numpy as np\n",
    "\n",
    "#Mutual prediction disparity functions\n",
    "\n",
    "def regression_distance(model_s, model_t, data_s, data_t, m):\n",
    "    n_s = len(data_s)\n",
    "    n_t = len(data_t)\n",
    "\n",
    "    sum_squared_diff = np.sum((model_s.predict(data_s) - model_t.predict(data_s))**2)\n",
    "    sum_squared_diff += np.sum((model_s.predict(data_t) - model_t.predict(data_t))**2)\n",
    "\n",
    "    distance = sum_squared_diff / (n_s + n_t + 2*m)\n",
    "    return distance\n",
    "\n",
    "def classification_distance(model_s, model_t, data_s, data_t, m):\n",
    "    predictions_s = model_s.predict(data_s)\n",
    "    predictions_t = model_t.predict(data_s)\n",
    "    \n",
    "    predictions_s = np.round(np.concatenate((predictions_s, model_s.predict(data_t))))\n",
    "    predictions_t = np.round(np.concatenate((predictions_t, model_t.predict(data_t))))\n",
    "\n",
    "    tp = np.sum((predictions_s == 1) & (predictions_t == 1))\n",
    "    fp = np.sum((predictions_s == 1) & (predictions_t == 0))\n",
    "    fn = np.sum((predictions_s == 0) & (predictions_t == 1))\n",
    "\n",
    "    if tp == 0:\n",
    "        distance = np.inf\n",
    "    else:\n",
    "        distance = (fp + fn) / (2 * tp)\n",
    "\n",
    "    return distance\n",
    "\n",
    "\n",
    "def dist_matrix(num_clusters, classification = False):\n",
    "    distance_matrix = np.zeros((num_clusters, num_clusters))\n",
    "    if classification == False:\n",
    "        for s in range(num_clusters):\n",
    "            for t in range(num_clusters):\n",
    "                if s == t:\n",
    "                    distance_matrix[s, t] = 0.0\n",
    "                else:\n",
    "                    distance_matrix[s, t] = regression_distance(models_all[num_clusters][s], models_all[num_clusters][t], augmented_data[num_clusters][s], augmented_data[num_clusters][t], m)\n",
    "\n",
    "    if classification:\n",
    "        for s in range(num_clusters):\n",
    "            for t in range(num_clusters):\n",
    "                if s == t:\n",
    "                    distance_matrix[s, t] = 0.0\n",
    "                else:\n",
    "                    distance_matrix[s, t] = classification_distance(models_all[num_clusters][s], models_all[num_clusters][t], augmented_data[num_clusters][s], augmented_data[num_clusters][t], m)\n",
    "    return distance_matrix"
   ]
  },
  {
   "cell_type": "code",
   "execution_count": 12,
   "outputs": [],
   "source": [
    "def run_grid_search_models(X_train, X_test, y_train, y_test):\n",
    "    model_configs = {\n",
    "        \"RF\": {\n",
    "            \"model\": RandomForestRegressor(),\n",
    "            \"params\": {\"n_estimators\": [100, 200], \"max_depth\": [None, 10]}\n",
    "        },\n",
    "        \"GB\": {\n",
    "            \"model\": GradientBoostingRegressor(),\n",
    "            \"params\": {\"n_estimators\": [100], \"learning_rate\": [0.1, 0.05], \"max_depth\": [3, 5]}\n",
    "        },\n",
    "        \"MLP\": {\n",
    "            \"model\": MLPRegressor(solver='lbfgs', random_state=1, max_iter=1000),\n",
    "            \"params\": {\"hidden_layer_sizes\": [(50,), (100,)], \"alpha\": [0.0001, 0.001]}\n",
    "        }\n",
    "    }\n",
    "\n",
    "    best_models = {}\n",
    "\n",
    "    # 1) RF, GB, MLP via GridSearchCV\n",
    "    for name, cfg in model_configs.items():\n",
    "        print(f\"\\nRunning GridSearchCV for {name}…\")\n",
    "        grid = GridSearchCV(cfg[\"model\"], cfg[\"params\"],\n",
    "                            cv=3, scoring=\"roc_auc\", n_jobs=-1)\n",
    "        grid.fit(X_train, y_train)\n",
    "        best = grid.best_estimator_\n",
    "        best_models[name] = best\n",
    "\n",
    "        y_tr = best.predict(X_train)\n",
    "        y_te = best.predict(X_test)\n",
    "        print(f\"{name} Best Params: {grid.best_params_}\")\n",
    "        print(f\"{name} RMSE Train: {rmse(y_train, y_tr):.4f}\")\n",
    "        print(f\"{name} RMSE Test:  {rmse(y_test,  y_te):.4f}\")\n",
    "\n",
    "    # 2) LRF sweep over ntree = 100, 200, 500\n",
    "    print(\"\\nEvaluating LRFClassifier over ntree = [100, 500]…\")\n",
    "    best_auc = -np.inf\n",
    "    best_nt  = None\n",
    "\n",
    "    for nt in (100, 500):\n",
    "        lrf = LRFRegressor(ntree=nt).fit(X_train, y_train)\n",
    "        y_tr = lrf.predict(X_train)\n",
    "        y_te = lrf.predict(X_test)\n",
    "\n",
    "        train_auc = rmse(y_train, y_tr)\n",
    "        test_auc  = rmse(y_test,  y_te)\n",
    "        print(f\" LRF ntree={nt} → Train RMSE={train_auc:.4f}, Test RMSE={test_auc:.4f}\")\n",
    "\n",
    "        if test_auc > best_auc:\n",
    "            best_auc      = test_auc\n",
    "            best_models[\"LRF\"] = lrf\n",
    "            best_nt       = nt\n",
    "\n",
    "    print(f\"LRF best ntree = {best_nt}\\n\")\n",
    "\n",
    "    return best_models"
   ],
   "metadata": {
    "collapsed": false,
    "ExecuteTime": {
     "end_time": "2025-08-17T18:51:38.866331Z",
     "start_time": "2025-08-17T18:51:38.850265Z"
    }
   },
   "id": "69d48a0cc97e0227"
  },
  {
   "cell_type": "code",
   "execution_count": 13,
   "outputs": [
    {
     "name": "stdout",
     "output_type": "stream",
     "text": [
      "\n",
      "Running GridSearchCV for RF…\n"
     ]
    },
    {
     "name": "stderr",
     "output_type": "stream",
     "text": [
      "/Users/evgeniikuriabov/PycharmProjects/JCGS_review/venv/lib/python3.9/site-packages/sklearn/model_selection/_validation.py:960: UserWarning: Scoring failed. The score on this train-test partition for these parameters will be set to nan. Details: \n",
      "Traceback (most recent call last):\n",
      "  File \"/Users/evgeniikuriabov/PycharmProjects/JCGS_review/venv/lib/python3.9/site-packages/sklearn/model_selection/_validation.py\", line 949, in _score\n",
      "    scores = scorer(estimator, X_test, y_test, **score_params)\n",
      "  File \"/Users/evgeniikuriabov/PycharmProjects/JCGS_review/venv/lib/python3.9/site-packages/sklearn/metrics/_scorer.py\", line 288, in __call__\n",
      "    return self._score(partial(_cached_call, None), estimator, X, y_true, **_kwargs)\n",
      "  File \"/Users/evgeniikuriabov/PycharmProjects/JCGS_review/venv/lib/python3.9/site-packages/sklearn/metrics/_scorer.py\", line 379, in _score\n",
      "    response_method = _check_response_method(estimator, self._response_method)\n",
      "  File \"/Users/evgeniikuriabov/PycharmProjects/JCGS_review/venv/lib/python3.9/site-packages/sklearn/utils/validation.py\", line 2283, in _check_response_method\n",
      "    raise AttributeError(\n",
      "AttributeError: RandomForestRegressor has none of the following attributes: decision_function, predict_proba.\n",
      "\n",
      "  warnings.warn(\n",
      "/Users/evgeniikuriabov/PycharmProjects/JCGS_review/venv/lib/python3.9/site-packages/sklearn/model_selection/_validation.py:960: UserWarning: Scoring failed. The score on this train-test partition for these parameters will be set to nan. Details: \n",
      "Traceback (most recent call last):\n",
      "  File \"/Users/evgeniikuriabov/PycharmProjects/JCGS_review/venv/lib/python3.9/site-packages/sklearn/model_selection/_validation.py\", line 949, in _score\n",
      "    scores = scorer(estimator, X_test, y_test, **score_params)\n",
      "  File \"/Users/evgeniikuriabov/PycharmProjects/JCGS_review/venv/lib/python3.9/site-packages/sklearn/metrics/_scorer.py\", line 288, in __call__\n",
      "    return self._score(partial(_cached_call, None), estimator, X, y_true, **_kwargs)\n",
      "  File \"/Users/evgeniikuriabov/PycharmProjects/JCGS_review/venv/lib/python3.9/site-packages/sklearn/metrics/_scorer.py\", line 379, in _score\n",
      "    response_method = _check_response_method(estimator, self._response_method)\n",
      "  File \"/Users/evgeniikuriabov/PycharmProjects/JCGS_review/venv/lib/python3.9/site-packages/sklearn/utils/validation.py\", line 2283, in _check_response_method\n",
      "    raise AttributeError(\n",
      "AttributeError: RandomForestRegressor has none of the following attributes: decision_function, predict_proba.\n",
      "\n",
      "  warnings.warn(\n",
      "/Users/evgeniikuriabov/PycharmProjects/JCGS_review/venv/lib/python3.9/site-packages/sklearn/model_selection/_validation.py:960: UserWarning: Scoring failed. The score on this train-test partition for these parameters will be set to nan. Details: \n",
      "Traceback (most recent call last):\n",
      "  File \"/Users/evgeniikuriabov/PycharmProjects/JCGS_review/venv/lib/python3.9/site-packages/sklearn/model_selection/_validation.py\", line 949, in _score\n",
      "    scores = scorer(estimator, X_test, y_test, **score_params)\n",
      "  File \"/Users/evgeniikuriabov/PycharmProjects/JCGS_review/venv/lib/python3.9/site-packages/sklearn/metrics/_scorer.py\", line 288, in __call__\n",
      "    return self._score(partial(_cached_call, None), estimator, X, y_true, **_kwargs)\n",
      "  File \"/Users/evgeniikuriabov/PycharmProjects/JCGS_review/venv/lib/python3.9/site-packages/sklearn/metrics/_scorer.py\", line 379, in _score\n",
      "    response_method = _check_response_method(estimator, self._response_method)\n",
      "  File \"/Users/evgeniikuriabov/PycharmProjects/JCGS_review/venv/lib/python3.9/site-packages/sklearn/utils/validation.py\", line 2283, in _check_response_method\n",
      "    raise AttributeError(\n",
      "AttributeError: RandomForestRegressor has none of the following attributes: decision_function, predict_proba.\n",
      "\n",
      "  warnings.warn(\n",
      "/Users/evgeniikuriabov/PycharmProjects/JCGS_review/venv/lib/python3.9/site-packages/sklearn/model_selection/_validation.py:960: UserWarning: Scoring failed. The score on this train-test partition for these parameters will be set to nan. Details: \n",
      "Traceback (most recent call last):\n",
      "  File \"/Users/evgeniikuriabov/PycharmProjects/JCGS_review/venv/lib/python3.9/site-packages/sklearn/model_selection/_validation.py\", line 949, in _score\n",
      "    scores = scorer(estimator, X_test, y_test, **score_params)\n",
      "  File \"/Users/evgeniikuriabov/PycharmProjects/JCGS_review/venv/lib/python3.9/site-packages/sklearn/metrics/_scorer.py\", line 288, in __call__\n",
      "    return self._score(partial(_cached_call, None), estimator, X, y_true, **_kwargs)\n",
      "  File \"/Users/evgeniikuriabov/PycharmProjects/JCGS_review/venv/lib/python3.9/site-packages/sklearn/metrics/_scorer.py\", line 379, in _score\n",
      "    response_method = _check_response_method(estimator, self._response_method)\n",
      "  File \"/Users/evgeniikuriabov/PycharmProjects/JCGS_review/venv/lib/python3.9/site-packages/sklearn/utils/validation.py\", line 2283, in _check_response_method\n",
      "    raise AttributeError(\n",
      "AttributeError: RandomForestRegressor has none of the following attributes: decision_function, predict_proba.\n",
      "\n",
      "  warnings.warn(\n",
      "/Users/evgeniikuriabov/PycharmProjects/JCGS_review/venv/lib/python3.9/site-packages/sklearn/model_selection/_validation.py:960: UserWarning: Scoring failed. The score on this train-test partition for these parameters will be set to nan. Details: \n",
      "Traceback (most recent call last):\n",
      "  File \"/Users/evgeniikuriabov/PycharmProjects/JCGS_review/venv/lib/python3.9/site-packages/sklearn/model_selection/_validation.py\", line 949, in _score\n",
      "    scores = scorer(estimator, X_test, y_test, **score_params)\n",
      "  File \"/Users/evgeniikuriabov/PycharmProjects/JCGS_review/venv/lib/python3.9/site-packages/sklearn/metrics/_scorer.py\", line 288, in __call__\n",
      "    return self._score(partial(_cached_call, None), estimator, X, y_true, **_kwargs)\n",
      "  File \"/Users/evgeniikuriabov/PycharmProjects/JCGS_review/venv/lib/python3.9/site-packages/sklearn/metrics/_scorer.py\", line 379, in _score\n",
      "    response_method = _check_response_method(estimator, self._response_method)\n",
      "  File \"/Users/evgeniikuriabov/PycharmProjects/JCGS_review/venv/lib/python3.9/site-packages/sklearn/utils/validation.py\", line 2283, in _check_response_method\n",
      "    raise AttributeError(\n",
      "AttributeError: RandomForestRegressor has none of the following attributes: decision_function, predict_proba.\n",
      "\n",
      "  warnings.warn(\n",
      "/Users/evgeniikuriabov/PycharmProjects/JCGS_review/venv/lib/python3.9/site-packages/sklearn/model_selection/_validation.py:960: UserWarning: Scoring failed. The score on this train-test partition for these parameters will be set to nan. Details: \n",
      "Traceback (most recent call last):\n",
      "  File \"/Users/evgeniikuriabov/PycharmProjects/JCGS_review/venv/lib/python3.9/site-packages/sklearn/model_selection/_validation.py\", line 949, in _score\n",
      "    scores = scorer(estimator, X_test, y_test, **score_params)\n",
      "  File \"/Users/evgeniikuriabov/PycharmProjects/JCGS_review/venv/lib/python3.9/site-packages/sklearn/metrics/_scorer.py\", line 288, in __call__\n",
      "    return self._score(partial(_cached_call, None), estimator, X, y_true, **_kwargs)\n",
      "  File \"/Users/evgeniikuriabov/PycharmProjects/JCGS_review/venv/lib/python3.9/site-packages/sklearn/metrics/_scorer.py\", line 379, in _score\n",
      "    response_method = _check_response_method(estimator, self._response_method)\n",
      "  File \"/Users/evgeniikuriabov/PycharmProjects/JCGS_review/venv/lib/python3.9/site-packages/sklearn/utils/validation.py\", line 2283, in _check_response_method\n",
      "    raise AttributeError(\n",
      "AttributeError: RandomForestRegressor has none of the following attributes: decision_function, predict_proba.\n",
      "\n",
      "  warnings.warn(\n",
      "/Users/evgeniikuriabov/PycharmProjects/JCGS_review/venv/lib/python3.9/site-packages/sklearn/model_selection/_validation.py:960: UserWarning: Scoring failed. The score on this train-test partition for these parameters will be set to nan. Details: \n",
      "Traceback (most recent call last):\n",
      "  File \"/Users/evgeniikuriabov/PycharmProjects/JCGS_review/venv/lib/python3.9/site-packages/sklearn/model_selection/_validation.py\", line 949, in _score\n",
      "    scores = scorer(estimator, X_test, y_test, **score_params)\n",
      "  File \"/Users/evgeniikuriabov/PycharmProjects/JCGS_review/venv/lib/python3.9/site-packages/sklearn/metrics/_scorer.py\", line 288, in __call__\n",
      "    return self._score(partial(_cached_call, None), estimator, X, y_true, **_kwargs)\n",
      "  File \"/Users/evgeniikuriabov/PycharmProjects/JCGS_review/venv/lib/python3.9/site-packages/sklearn/metrics/_scorer.py\", line 379, in _score\n",
      "    response_method = _check_response_method(estimator, self._response_method)\n",
      "  File \"/Users/evgeniikuriabov/PycharmProjects/JCGS_review/venv/lib/python3.9/site-packages/sklearn/utils/validation.py\", line 2283, in _check_response_method\n",
      "    raise AttributeError(\n",
      "AttributeError: RandomForestRegressor has none of the following attributes: decision_function, predict_proba.\n",
      "\n",
      "  warnings.warn(\n",
      "/Users/evgeniikuriabov/PycharmProjects/JCGS_review/venv/lib/python3.9/site-packages/sklearn/model_selection/_validation.py:960: UserWarning: Scoring failed. The score on this train-test partition for these parameters will be set to nan. Details: \n",
      "Traceback (most recent call last):\n",
      "  File \"/Users/evgeniikuriabov/PycharmProjects/JCGS_review/venv/lib/python3.9/site-packages/sklearn/model_selection/_validation.py\", line 949, in _score\n",
      "    scores = scorer(estimator, X_test, y_test, **score_params)\n",
      "  File \"/Users/evgeniikuriabov/PycharmProjects/JCGS_review/venv/lib/python3.9/site-packages/sklearn/metrics/_scorer.py\", line 288, in __call__\n",
      "    return self._score(partial(_cached_call, None), estimator, X, y_true, **_kwargs)\n",
      "  File \"/Users/evgeniikuriabov/PycharmProjects/JCGS_review/venv/lib/python3.9/site-packages/sklearn/metrics/_scorer.py\", line 379, in _score\n",
      "    response_method = _check_response_method(estimator, self._response_method)\n",
      "  File \"/Users/evgeniikuriabov/PycharmProjects/JCGS_review/venv/lib/python3.9/site-packages/sklearn/utils/validation.py\", line 2283, in _check_response_method\n",
      "    raise AttributeError(\n",
      "AttributeError: RandomForestRegressor has none of the following attributes: decision_function, predict_proba.\n",
      "\n",
      "  warnings.warn(\n",
      "/Users/evgeniikuriabov/PycharmProjects/JCGS_review/venv/lib/python3.9/site-packages/sklearn/model_selection/_validation.py:960: UserWarning: Scoring failed. The score on this train-test partition for these parameters will be set to nan. Details: \n",
      "Traceback (most recent call last):\n",
      "  File \"/Users/evgeniikuriabov/PycharmProjects/JCGS_review/venv/lib/python3.9/site-packages/sklearn/model_selection/_validation.py\", line 949, in _score\n",
      "    scores = scorer(estimator, X_test, y_test, **score_params)\n",
      "  File \"/Users/evgeniikuriabov/PycharmProjects/JCGS_review/venv/lib/python3.9/site-packages/sklearn/metrics/_scorer.py\", line 288, in __call__\n",
      "    return self._score(partial(_cached_call, None), estimator, X, y_true, **_kwargs)\n",
      "  File \"/Users/evgeniikuriabov/PycharmProjects/JCGS_review/venv/lib/python3.9/site-packages/sklearn/metrics/_scorer.py\", line 379, in _score\n",
      "    response_method = _check_response_method(estimator, self._response_method)\n",
      "  File \"/Users/evgeniikuriabov/PycharmProjects/JCGS_review/venv/lib/python3.9/site-packages/sklearn/utils/validation.py\", line 2283, in _check_response_method\n",
      "    raise AttributeError(\n",
      "AttributeError: RandomForestRegressor has none of the following attributes: decision_function, predict_proba.\n",
      "\n",
      "  warnings.warn(\n",
      "/Users/evgeniikuriabov/PycharmProjects/JCGS_review/venv/lib/python3.9/site-packages/sklearn/model_selection/_validation.py:960: UserWarning: Scoring failed. The score on this train-test partition for these parameters will be set to nan. Details: \n",
      "Traceback (most recent call last):\n",
      "  File \"/Users/evgeniikuriabov/PycharmProjects/JCGS_review/venv/lib/python3.9/site-packages/sklearn/model_selection/_validation.py\", line 949, in _score\n",
      "    scores = scorer(estimator, X_test, y_test, **score_params)\n",
      "  File \"/Users/evgeniikuriabov/PycharmProjects/JCGS_review/venv/lib/python3.9/site-packages/sklearn/metrics/_scorer.py\", line 288, in __call__\n",
      "    return self._score(partial(_cached_call, None), estimator, X, y_true, **_kwargs)\n",
      "  File \"/Users/evgeniikuriabov/PycharmProjects/JCGS_review/venv/lib/python3.9/site-packages/sklearn/metrics/_scorer.py\", line 379, in _score\n",
      "    response_method = _check_response_method(estimator, self._response_method)\n",
      "  File \"/Users/evgeniikuriabov/PycharmProjects/JCGS_review/venv/lib/python3.9/site-packages/sklearn/utils/validation.py\", line 2283, in _check_response_method\n",
      "    raise AttributeError(\n",
      "AttributeError: RandomForestRegressor has none of the following attributes: decision_function, predict_proba.\n",
      "\n",
      "  warnings.warn(\n",
      "/Users/evgeniikuriabov/PycharmProjects/JCGS_review/venv/lib/python3.9/site-packages/sklearn/model_selection/_validation.py:960: UserWarning: Scoring failed. The score on this train-test partition for these parameters will be set to nan. Details: \n",
      "Traceback (most recent call last):\n",
      "  File \"/Users/evgeniikuriabov/PycharmProjects/JCGS_review/venv/lib/python3.9/site-packages/sklearn/model_selection/_validation.py\", line 949, in _score\n",
      "    scores = scorer(estimator, X_test, y_test, **score_params)\n",
      "  File \"/Users/evgeniikuriabov/PycharmProjects/JCGS_review/venv/lib/python3.9/site-packages/sklearn/metrics/_scorer.py\", line 288, in __call__\n",
      "    return self._score(partial(_cached_call, None), estimator, X, y_true, **_kwargs)\n",
      "  File \"/Users/evgeniikuriabov/PycharmProjects/JCGS_review/venv/lib/python3.9/site-packages/sklearn/metrics/_scorer.py\", line 379, in _score\n",
      "    response_method = _check_response_method(estimator, self._response_method)\n",
      "  File \"/Users/evgeniikuriabov/PycharmProjects/JCGS_review/venv/lib/python3.9/site-packages/sklearn/utils/validation.py\", line 2283, in _check_response_method\n",
      "    raise AttributeError(\n",
      "AttributeError: RandomForestRegressor has none of the following attributes: decision_function, predict_proba.\n",
      "\n",
      "  warnings.warn(\n",
      "/Users/evgeniikuriabov/PycharmProjects/JCGS_review/venv/lib/python3.9/site-packages/sklearn/model_selection/_validation.py:960: UserWarning: Scoring failed. The score on this train-test partition for these parameters will be set to nan. Details: \n",
      "Traceback (most recent call last):\n",
      "  File \"/Users/evgeniikuriabov/PycharmProjects/JCGS_review/venv/lib/python3.9/site-packages/sklearn/model_selection/_validation.py\", line 949, in _score\n",
      "    scores = scorer(estimator, X_test, y_test, **score_params)\n",
      "  File \"/Users/evgeniikuriabov/PycharmProjects/JCGS_review/venv/lib/python3.9/site-packages/sklearn/metrics/_scorer.py\", line 288, in __call__\n",
      "    return self._score(partial(_cached_call, None), estimator, X, y_true, **_kwargs)\n",
      "  File \"/Users/evgeniikuriabov/PycharmProjects/JCGS_review/venv/lib/python3.9/site-packages/sklearn/metrics/_scorer.py\", line 379, in _score\n",
      "    response_method = _check_response_method(estimator, self._response_method)\n",
      "  File \"/Users/evgeniikuriabov/PycharmProjects/JCGS_review/venv/lib/python3.9/site-packages/sklearn/utils/validation.py\", line 2283, in _check_response_method\n",
      "    raise AttributeError(\n",
      "AttributeError: RandomForestRegressor has none of the following attributes: decision_function, predict_proba.\n",
      "\n",
      "  warnings.warn(\n",
      "/Users/evgeniikuriabov/PycharmProjects/JCGS_review/venv/lib/python3.9/site-packages/sklearn/model_selection/_search.py:1108: UserWarning: One or more of the test scores are non-finite: [nan nan nan nan]\n",
      "  warnings.warn(\n"
     ]
    },
    {
     "name": "stdout",
     "output_type": "stream",
     "text": [
      "RF Best Params: {'max_depth': None, 'n_estimators': 100}\n",
      "RF RMSE Train: 16.0901\n",
      "RF RMSE Test:  44.1153\n",
      "\n",
      "Running GridSearchCV for GB…\n"
     ]
    },
    {
     "name": "stderr",
     "output_type": "stream",
     "text": [
      "/Users/evgeniikuriabov/PycharmProjects/JCGS_review/venv/lib/python3.9/site-packages/sklearn/model_selection/_validation.py:960: UserWarning: Scoring failed. The score on this train-test partition for these parameters will be set to nan. Details: \n",
      "Traceback (most recent call last):\n",
      "  File \"/Users/evgeniikuriabov/PycharmProjects/JCGS_review/venv/lib/python3.9/site-packages/sklearn/model_selection/_validation.py\", line 949, in _score\n",
      "    scores = scorer(estimator, X_test, y_test, **score_params)\n",
      "  File \"/Users/evgeniikuriabov/PycharmProjects/JCGS_review/venv/lib/python3.9/site-packages/sklearn/metrics/_scorer.py\", line 288, in __call__\n",
      "    return self._score(partial(_cached_call, None), estimator, X, y_true, **_kwargs)\n",
      "  File \"/Users/evgeniikuriabov/PycharmProjects/JCGS_review/venv/lib/python3.9/site-packages/sklearn/metrics/_scorer.py\", line 379, in _score\n",
      "    response_method = _check_response_method(estimator, self._response_method)\n",
      "  File \"/Users/evgeniikuriabov/PycharmProjects/JCGS_review/venv/lib/python3.9/site-packages/sklearn/utils/validation.py\", line 2283, in _check_response_method\n",
      "    raise AttributeError(\n",
      "AttributeError: GradientBoostingRegressor has none of the following attributes: decision_function, predict_proba.\n",
      "\n",
      "  warnings.warn(\n",
      "/Users/evgeniikuriabov/PycharmProjects/JCGS_review/venv/lib/python3.9/site-packages/sklearn/model_selection/_validation.py:960: UserWarning: Scoring failed. The score on this train-test partition for these parameters will be set to nan. Details: \n",
      "Traceback (most recent call last):\n",
      "  File \"/Users/evgeniikuriabov/PycharmProjects/JCGS_review/venv/lib/python3.9/site-packages/sklearn/model_selection/_validation.py\", line 949, in _score\n",
      "    scores = scorer(estimator, X_test, y_test, **score_params)\n",
      "  File \"/Users/evgeniikuriabov/PycharmProjects/JCGS_review/venv/lib/python3.9/site-packages/sklearn/metrics/_scorer.py\", line 288, in __call__\n",
      "    return self._score(partial(_cached_call, None), estimator, X, y_true, **_kwargs)\n",
      "  File \"/Users/evgeniikuriabov/PycharmProjects/JCGS_review/venv/lib/python3.9/site-packages/sklearn/metrics/_scorer.py\", line 379, in _score\n",
      "    response_method = _check_response_method(estimator, self._response_method)\n",
      "  File \"/Users/evgeniikuriabov/PycharmProjects/JCGS_review/venv/lib/python3.9/site-packages/sklearn/utils/validation.py\", line 2283, in _check_response_method\n",
      "    raise AttributeError(\n",
      "AttributeError: GradientBoostingRegressor has none of the following attributes: decision_function, predict_proba.\n",
      "\n",
      "  warnings.warn(\n",
      "/Users/evgeniikuriabov/PycharmProjects/JCGS_review/venv/lib/python3.9/site-packages/sklearn/model_selection/_validation.py:960: UserWarning: Scoring failed. The score on this train-test partition for these parameters will be set to nan. Details: \n",
      "Traceback (most recent call last):\n",
      "  File \"/Users/evgeniikuriabov/PycharmProjects/JCGS_review/venv/lib/python3.9/site-packages/sklearn/model_selection/_validation.py\", line 949, in _score\n",
      "    scores = scorer(estimator, X_test, y_test, **score_params)\n",
      "  File \"/Users/evgeniikuriabov/PycharmProjects/JCGS_review/venv/lib/python3.9/site-packages/sklearn/metrics/_scorer.py\", line 288, in __call__\n",
      "    return self._score(partial(_cached_call, None), estimator, X, y_true, **_kwargs)\n",
      "  File \"/Users/evgeniikuriabov/PycharmProjects/JCGS_review/venv/lib/python3.9/site-packages/sklearn/metrics/_scorer.py\", line 379, in _score\n",
      "    response_method = _check_response_method(estimator, self._response_method)\n",
      "  File \"/Users/evgeniikuriabov/PycharmProjects/JCGS_review/venv/lib/python3.9/site-packages/sklearn/utils/validation.py\", line 2283, in _check_response_method\n",
      "    raise AttributeError(\n",
      "AttributeError: GradientBoostingRegressor has none of the following attributes: decision_function, predict_proba.\n",
      "\n",
      "  warnings.warn(\n",
      "/Users/evgeniikuriabov/PycharmProjects/JCGS_review/venv/lib/python3.9/site-packages/sklearn/model_selection/_validation.py:960: UserWarning: Scoring failed. The score on this train-test partition for these parameters will be set to nan. Details: \n",
      "Traceback (most recent call last):\n",
      "  File \"/Users/evgeniikuriabov/PycharmProjects/JCGS_review/venv/lib/python3.9/site-packages/sklearn/model_selection/_validation.py\", line 949, in _score\n",
      "    scores = scorer(estimator, X_test, y_test, **score_params)\n",
      "  File \"/Users/evgeniikuriabov/PycharmProjects/JCGS_review/venv/lib/python3.9/site-packages/sklearn/metrics/_scorer.py\", line 288, in __call__\n",
      "    return self._score(partial(_cached_call, None), estimator, X, y_true, **_kwargs)\n",
      "  File \"/Users/evgeniikuriabov/PycharmProjects/JCGS_review/venv/lib/python3.9/site-packages/sklearn/metrics/_scorer.py\", line 379, in _score\n",
      "    response_method = _check_response_method(estimator, self._response_method)\n",
      "  File \"/Users/evgeniikuriabov/PycharmProjects/JCGS_review/venv/lib/python3.9/site-packages/sklearn/utils/validation.py\", line 2283, in _check_response_method\n",
      "    raise AttributeError(\n",
      "AttributeError: GradientBoostingRegressor has none of the following attributes: decision_function, predict_proba.\n",
      "\n",
      "  warnings.warn(\n",
      "/Users/evgeniikuriabov/PycharmProjects/JCGS_review/venv/lib/python3.9/site-packages/sklearn/model_selection/_validation.py:960: UserWarning: Scoring failed. The score on this train-test partition for these parameters will be set to nan. Details: \n",
      "Traceback (most recent call last):\n",
      "  File \"/Users/evgeniikuriabov/PycharmProjects/JCGS_review/venv/lib/python3.9/site-packages/sklearn/model_selection/_validation.py\", line 949, in _score\n",
      "    scores = scorer(estimator, X_test, y_test, **score_params)\n",
      "  File \"/Users/evgeniikuriabov/PycharmProjects/JCGS_review/venv/lib/python3.9/site-packages/sklearn/metrics/_scorer.py\", line 288, in __call__\n",
      "    return self._score(partial(_cached_call, None), estimator, X, y_true, **_kwargs)\n",
      "  File \"/Users/evgeniikuriabov/PycharmProjects/JCGS_review/venv/lib/python3.9/site-packages/sklearn/metrics/_scorer.py\", line 379, in _score\n",
      "    response_method = _check_response_method(estimator, self._response_method)\n",
      "  File \"/Users/evgeniikuriabov/PycharmProjects/JCGS_review/venv/lib/python3.9/site-packages/sklearn/utils/validation.py\", line 2283, in _check_response_method\n",
      "    raise AttributeError(\n",
      "AttributeError: GradientBoostingRegressor has none of the following attributes: decision_function, predict_proba.\n",
      "\n",
      "  warnings.warn(\n",
      "/Users/evgeniikuriabov/PycharmProjects/JCGS_review/venv/lib/python3.9/site-packages/sklearn/model_selection/_validation.py:960: UserWarning: Scoring failed. The score on this train-test partition for these parameters will be set to nan. Details: \n",
      "Traceback (most recent call last):\n",
      "  File \"/Users/evgeniikuriabov/PycharmProjects/JCGS_review/venv/lib/python3.9/site-packages/sklearn/model_selection/_validation.py\", line 949, in _score\n",
      "    scores = scorer(estimator, X_test, y_test, **score_params)\n",
      "  File \"/Users/evgeniikuriabov/PycharmProjects/JCGS_review/venv/lib/python3.9/site-packages/sklearn/metrics/_scorer.py\", line 288, in __call__\n",
      "    return self._score(partial(_cached_call, None), estimator, X, y_true, **_kwargs)\n",
      "  File \"/Users/evgeniikuriabov/PycharmProjects/JCGS_review/venv/lib/python3.9/site-packages/sklearn/metrics/_scorer.py\", line 379, in _score\n",
      "    response_method = _check_response_method(estimator, self._response_method)\n",
      "  File \"/Users/evgeniikuriabov/PycharmProjects/JCGS_review/venv/lib/python3.9/site-packages/sklearn/utils/validation.py\", line 2283, in _check_response_method\n",
      "    raise AttributeError(\n",
      "AttributeError: GradientBoostingRegressor has none of the following attributes: decision_function, predict_proba.\n",
      "\n",
      "  warnings.warn(\n",
      "/Users/evgeniikuriabov/PycharmProjects/JCGS_review/venv/lib/python3.9/site-packages/sklearn/model_selection/_validation.py:960: UserWarning: Scoring failed. The score on this train-test partition for these parameters will be set to nan. Details: \n",
      "Traceback (most recent call last):\n",
      "  File \"/Users/evgeniikuriabov/PycharmProjects/JCGS_review/venv/lib/python3.9/site-packages/sklearn/model_selection/_validation.py\", line 949, in _score\n",
      "    scores = scorer(estimator, X_test, y_test, **score_params)\n",
      "  File \"/Users/evgeniikuriabov/PycharmProjects/JCGS_review/venv/lib/python3.9/site-packages/sklearn/metrics/_scorer.py\", line 288, in __call__\n",
      "    return self._score(partial(_cached_call, None), estimator, X, y_true, **_kwargs)\n",
      "  File \"/Users/evgeniikuriabov/PycharmProjects/JCGS_review/venv/lib/python3.9/site-packages/sklearn/metrics/_scorer.py\", line 379, in _score\n",
      "    response_method = _check_response_method(estimator, self._response_method)\n",
      "  File \"/Users/evgeniikuriabov/PycharmProjects/JCGS_review/venv/lib/python3.9/site-packages/sklearn/utils/validation.py\", line 2283, in _check_response_method\n",
      "    raise AttributeError(\n",
      "AttributeError: GradientBoostingRegressor has none of the following attributes: decision_function, predict_proba.\n",
      "\n",
      "  warnings.warn(\n",
      "/Users/evgeniikuriabov/PycharmProjects/JCGS_review/venv/lib/python3.9/site-packages/sklearn/model_selection/_validation.py:960: UserWarning: Scoring failed. The score on this train-test partition for these parameters will be set to nan. Details: \n",
      "Traceback (most recent call last):\n",
      "  File \"/Users/evgeniikuriabov/PycharmProjects/JCGS_review/venv/lib/python3.9/site-packages/sklearn/model_selection/_validation.py\", line 949, in _score\n",
      "    scores = scorer(estimator, X_test, y_test, **score_params)\n",
      "  File \"/Users/evgeniikuriabov/PycharmProjects/JCGS_review/venv/lib/python3.9/site-packages/sklearn/metrics/_scorer.py\", line 288, in __call__\n",
      "    return self._score(partial(_cached_call, None), estimator, X, y_true, **_kwargs)\n",
      "  File \"/Users/evgeniikuriabov/PycharmProjects/JCGS_review/venv/lib/python3.9/site-packages/sklearn/metrics/_scorer.py\", line 379, in _score\n",
      "    response_method = _check_response_method(estimator, self._response_method)\n",
      "  File \"/Users/evgeniikuriabov/PycharmProjects/JCGS_review/venv/lib/python3.9/site-packages/sklearn/utils/validation.py\", line 2283, in _check_response_method\n",
      "    raise AttributeError(\n",
      "AttributeError: GradientBoostingRegressor has none of the following attributes: decision_function, predict_proba.\n",
      "\n",
      "  warnings.warn(\n",
      "/Users/evgeniikuriabov/PycharmProjects/JCGS_review/venv/lib/python3.9/site-packages/sklearn/model_selection/_validation.py:960: UserWarning: Scoring failed. The score on this train-test partition for these parameters will be set to nan. Details: \n",
      "Traceback (most recent call last):\n",
      "  File \"/Users/evgeniikuriabov/PycharmProjects/JCGS_review/venv/lib/python3.9/site-packages/sklearn/model_selection/_validation.py\", line 949, in _score\n",
      "    scores = scorer(estimator, X_test, y_test, **score_params)\n",
      "  File \"/Users/evgeniikuriabov/PycharmProjects/JCGS_review/venv/lib/python3.9/site-packages/sklearn/metrics/_scorer.py\", line 288, in __call__\n",
      "    return self._score(partial(_cached_call, None), estimator, X, y_true, **_kwargs)\n",
      "  File \"/Users/evgeniikuriabov/PycharmProjects/JCGS_review/venv/lib/python3.9/site-packages/sklearn/metrics/_scorer.py\", line 379, in _score\n",
      "    response_method = _check_response_method(estimator, self._response_method)\n",
      "  File \"/Users/evgeniikuriabov/PycharmProjects/JCGS_review/venv/lib/python3.9/site-packages/sklearn/utils/validation.py\", line 2283, in _check_response_method\n",
      "    raise AttributeError(\n",
      "AttributeError: GradientBoostingRegressor has none of the following attributes: decision_function, predict_proba.\n",
      "\n",
      "  warnings.warn(\n",
      "/Users/evgeniikuriabov/PycharmProjects/JCGS_review/venv/lib/python3.9/site-packages/sklearn/model_selection/_validation.py:960: UserWarning: Scoring failed. The score on this train-test partition for these parameters will be set to nan. Details: \n",
      "Traceback (most recent call last):\n",
      "  File \"/Users/evgeniikuriabov/PycharmProjects/JCGS_review/venv/lib/python3.9/site-packages/sklearn/model_selection/_validation.py\", line 949, in _score\n",
      "    scores = scorer(estimator, X_test, y_test, **score_params)\n",
      "  File \"/Users/evgeniikuriabov/PycharmProjects/JCGS_review/venv/lib/python3.9/site-packages/sklearn/metrics/_scorer.py\", line 288, in __call__\n",
      "    return self._score(partial(_cached_call, None), estimator, X, y_true, **_kwargs)\n",
      "  File \"/Users/evgeniikuriabov/PycharmProjects/JCGS_review/venv/lib/python3.9/site-packages/sklearn/metrics/_scorer.py\", line 379, in _score\n",
      "    response_method = _check_response_method(estimator, self._response_method)\n",
      "  File \"/Users/evgeniikuriabov/PycharmProjects/JCGS_review/venv/lib/python3.9/site-packages/sklearn/utils/validation.py\", line 2283, in _check_response_method\n",
      "    raise AttributeError(\n",
      "AttributeError: GradientBoostingRegressor has none of the following attributes: decision_function, predict_proba.\n",
      "\n",
      "  warnings.warn(\n",
      "/Users/evgeniikuriabov/PycharmProjects/JCGS_review/venv/lib/python3.9/site-packages/sklearn/model_selection/_validation.py:960: UserWarning: Scoring failed. The score on this train-test partition for these parameters will be set to nan. Details: \n",
      "Traceback (most recent call last):\n",
      "  File \"/Users/evgeniikuriabov/PycharmProjects/JCGS_review/venv/lib/python3.9/site-packages/sklearn/model_selection/_validation.py\", line 949, in _score\n",
      "    scores = scorer(estimator, X_test, y_test, **score_params)\n",
      "  File \"/Users/evgeniikuriabov/PycharmProjects/JCGS_review/venv/lib/python3.9/site-packages/sklearn/metrics/_scorer.py\", line 288, in __call__\n",
      "    return self._score(partial(_cached_call, None), estimator, X, y_true, **_kwargs)\n",
      "  File \"/Users/evgeniikuriabov/PycharmProjects/JCGS_review/venv/lib/python3.9/site-packages/sklearn/metrics/_scorer.py\", line 379, in _score\n",
      "    response_method = _check_response_method(estimator, self._response_method)\n",
      "  File \"/Users/evgeniikuriabov/PycharmProjects/JCGS_review/venv/lib/python3.9/site-packages/sklearn/utils/validation.py\", line 2283, in _check_response_method\n",
      "    raise AttributeError(\n",
      "AttributeError: GradientBoostingRegressor has none of the following attributes: decision_function, predict_proba.\n",
      "\n",
      "  warnings.warn(\n",
      "/Users/evgeniikuriabov/PycharmProjects/JCGS_review/venv/lib/python3.9/site-packages/sklearn/model_selection/_validation.py:960: UserWarning: Scoring failed. The score on this train-test partition for these parameters will be set to nan. Details: \n",
      "Traceback (most recent call last):\n",
      "  File \"/Users/evgeniikuriabov/PycharmProjects/JCGS_review/venv/lib/python3.9/site-packages/sklearn/model_selection/_validation.py\", line 949, in _score\n",
      "    scores = scorer(estimator, X_test, y_test, **score_params)\n",
      "  File \"/Users/evgeniikuriabov/PycharmProjects/JCGS_review/venv/lib/python3.9/site-packages/sklearn/metrics/_scorer.py\", line 288, in __call__\n",
      "    return self._score(partial(_cached_call, None), estimator, X, y_true, **_kwargs)\n",
      "  File \"/Users/evgeniikuriabov/PycharmProjects/JCGS_review/venv/lib/python3.9/site-packages/sklearn/metrics/_scorer.py\", line 379, in _score\n",
      "    response_method = _check_response_method(estimator, self._response_method)\n",
      "  File \"/Users/evgeniikuriabov/PycharmProjects/JCGS_review/venv/lib/python3.9/site-packages/sklearn/utils/validation.py\", line 2283, in _check_response_method\n",
      "    raise AttributeError(\n",
      "AttributeError: GradientBoostingRegressor has none of the following attributes: decision_function, predict_proba.\n",
      "\n",
      "  warnings.warn(\n",
      "/Users/evgeniikuriabov/PycharmProjects/JCGS_review/venv/lib/python3.9/site-packages/sklearn/model_selection/_search.py:1108: UserWarning: One or more of the test scores are non-finite: [nan nan nan nan]\n",
      "  warnings.warn(\n"
     ]
    },
    {
     "name": "stdout",
     "output_type": "stream",
     "text": [
      "GB Best Params: {'learning_rate': 0.1, 'max_depth': 3, 'n_estimators': 100}\n",
      "GB RMSE Train: 67.7074\n",
      "GB RMSE Test:  70.8011\n",
      "\n",
      "Running GridSearchCV for MLP…\n"
     ]
    },
    {
     "name": "stderr",
     "output_type": "stream",
     "text": [
      "/Users/evgeniikuriabov/PycharmProjects/JCGS_review/venv/lib/python3.9/site-packages/sklearn/neural_network/_multilayer_perceptron.py:546: ConvergenceWarning: lbfgs failed to converge (status=1):\n",
      "STOP: TOTAL NO. of ITERATIONS REACHED LIMIT.\n",
      "\n",
      "Increase the number of iterations (max_iter) or scale the data as shown in:\n",
      "    https://scikit-learn.org/stable/modules/preprocessing.html\n",
      "  self.n_iter_ = _check_optimize_result(\"lbfgs\", opt_res, self.max_iter)\n",
      "/Users/evgeniikuriabov/PycharmProjects/JCGS_review/venv/lib/python3.9/site-packages/sklearn/model_selection/_validation.py:960: UserWarning: Scoring failed. The score on this train-test partition for these parameters will be set to nan. Details: \n",
      "Traceback (most recent call last):\n",
      "  File \"/Users/evgeniikuriabov/PycharmProjects/JCGS_review/venv/lib/python3.9/site-packages/sklearn/model_selection/_validation.py\", line 949, in _score\n",
      "    scores = scorer(estimator, X_test, y_test, **score_params)\n",
      "  File \"/Users/evgeniikuriabov/PycharmProjects/JCGS_review/venv/lib/python3.9/site-packages/sklearn/metrics/_scorer.py\", line 288, in __call__\n",
      "    return self._score(partial(_cached_call, None), estimator, X, y_true, **_kwargs)\n",
      "  File \"/Users/evgeniikuriabov/PycharmProjects/JCGS_review/venv/lib/python3.9/site-packages/sklearn/metrics/_scorer.py\", line 379, in _score\n",
      "    response_method = _check_response_method(estimator, self._response_method)\n",
      "  File \"/Users/evgeniikuriabov/PycharmProjects/JCGS_review/venv/lib/python3.9/site-packages/sklearn/utils/validation.py\", line 2283, in _check_response_method\n",
      "    raise AttributeError(\n",
      "AttributeError: MLPRegressor has none of the following attributes: decision_function, predict_proba.\n",
      "\n",
      "  warnings.warn(\n",
      "/Users/evgeniikuriabov/PycharmProjects/JCGS_review/venv/lib/python3.9/site-packages/sklearn/neural_network/_multilayer_perceptron.py:546: ConvergenceWarning: lbfgs failed to converge (status=1):\n",
      "STOP: TOTAL NO. of ITERATIONS REACHED LIMIT.\n",
      "\n",
      "Increase the number of iterations (max_iter) or scale the data as shown in:\n",
      "    https://scikit-learn.org/stable/modules/preprocessing.html\n",
      "  self.n_iter_ = _check_optimize_result(\"lbfgs\", opt_res, self.max_iter)\n",
      "/Users/evgeniikuriabov/PycharmProjects/JCGS_review/venv/lib/python3.9/site-packages/sklearn/model_selection/_validation.py:960: UserWarning: Scoring failed. The score on this train-test partition for these parameters will be set to nan. Details: \n",
      "Traceback (most recent call last):\n",
      "  File \"/Users/evgeniikuriabov/PycharmProjects/JCGS_review/venv/lib/python3.9/site-packages/sklearn/model_selection/_validation.py\", line 949, in _score\n",
      "    scores = scorer(estimator, X_test, y_test, **score_params)\n",
      "  File \"/Users/evgeniikuriabov/PycharmProjects/JCGS_review/venv/lib/python3.9/site-packages/sklearn/metrics/_scorer.py\", line 288, in __call__\n",
      "    return self._score(partial(_cached_call, None), estimator, X, y_true, **_kwargs)\n",
      "  File \"/Users/evgeniikuriabov/PycharmProjects/JCGS_review/venv/lib/python3.9/site-packages/sklearn/metrics/_scorer.py\", line 379, in _score\n",
      "    response_method = _check_response_method(estimator, self._response_method)\n",
      "  File \"/Users/evgeniikuriabov/PycharmProjects/JCGS_review/venv/lib/python3.9/site-packages/sklearn/utils/validation.py\", line 2283, in _check_response_method\n",
      "    raise AttributeError(\n",
      "AttributeError: MLPRegressor has none of the following attributes: decision_function, predict_proba.\n",
      "\n",
      "  warnings.warn(\n",
      "/Users/evgeniikuriabov/PycharmProjects/JCGS_review/venv/lib/python3.9/site-packages/sklearn/neural_network/_multilayer_perceptron.py:546: ConvergenceWarning: lbfgs failed to converge (status=1):\n",
      "STOP: TOTAL NO. of ITERATIONS REACHED LIMIT.\n",
      "\n",
      "Increase the number of iterations (max_iter) or scale the data as shown in:\n",
      "    https://scikit-learn.org/stable/modules/preprocessing.html\n",
      "  self.n_iter_ = _check_optimize_result(\"lbfgs\", opt_res, self.max_iter)\n",
      "/Users/evgeniikuriabov/PycharmProjects/JCGS_review/venv/lib/python3.9/site-packages/sklearn/model_selection/_validation.py:960: UserWarning: Scoring failed. The score on this train-test partition for these parameters will be set to nan. Details: \n",
      "Traceback (most recent call last):\n",
      "  File \"/Users/evgeniikuriabov/PycharmProjects/JCGS_review/venv/lib/python3.9/site-packages/sklearn/model_selection/_validation.py\", line 949, in _score\n",
      "    scores = scorer(estimator, X_test, y_test, **score_params)\n",
      "  File \"/Users/evgeniikuriabov/PycharmProjects/JCGS_review/venv/lib/python3.9/site-packages/sklearn/metrics/_scorer.py\", line 288, in __call__\n",
      "    return self._score(partial(_cached_call, None), estimator, X, y_true, **_kwargs)\n",
      "  File \"/Users/evgeniikuriabov/PycharmProjects/JCGS_review/venv/lib/python3.9/site-packages/sklearn/metrics/_scorer.py\", line 379, in _score\n",
      "    response_method = _check_response_method(estimator, self._response_method)\n",
      "  File \"/Users/evgeniikuriabov/PycharmProjects/JCGS_review/venv/lib/python3.9/site-packages/sklearn/utils/validation.py\", line 2283, in _check_response_method\n",
      "    raise AttributeError(\n",
      "AttributeError: MLPRegressor has none of the following attributes: decision_function, predict_proba.\n",
      "\n",
      "  warnings.warn(\n",
      "/Users/evgeniikuriabov/PycharmProjects/JCGS_review/venv/lib/python3.9/site-packages/sklearn/neural_network/_multilayer_perceptron.py:546: ConvergenceWarning: lbfgs failed to converge (status=1):\n",
      "STOP: TOTAL NO. of ITERATIONS REACHED LIMIT.\n",
      "\n",
      "Increase the number of iterations (max_iter) or scale the data as shown in:\n",
      "    https://scikit-learn.org/stable/modules/preprocessing.html\n",
      "  self.n_iter_ = _check_optimize_result(\"lbfgs\", opt_res, self.max_iter)\n",
      "/Users/evgeniikuriabov/PycharmProjects/JCGS_review/venv/lib/python3.9/site-packages/sklearn/model_selection/_validation.py:960: UserWarning: Scoring failed. The score on this train-test partition for these parameters will be set to nan. Details: \n",
      "Traceback (most recent call last):\n",
      "  File \"/Users/evgeniikuriabov/PycharmProjects/JCGS_review/venv/lib/python3.9/site-packages/sklearn/model_selection/_validation.py\", line 949, in _score\n",
      "    scores = scorer(estimator, X_test, y_test, **score_params)\n",
      "  File \"/Users/evgeniikuriabov/PycharmProjects/JCGS_review/venv/lib/python3.9/site-packages/sklearn/metrics/_scorer.py\", line 288, in __call__\n",
      "    return self._score(partial(_cached_call, None), estimator, X, y_true, **_kwargs)\n",
      "  File \"/Users/evgeniikuriabov/PycharmProjects/JCGS_review/venv/lib/python3.9/site-packages/sklearn/metrics/_scorer.py\", line 379, in _score\n",
      "    response_method = _check_response_method(estimator, self._response_method)\n",
      "  File \"/Users/evgeniikuriabov/PycharmProjects/JCGS_review/venv/lib/python3.9/site-packages/sklearn/utils/validation.py\", line 2283, in _check_response_method\n",
      "    raise AttributeError(\n",
      "AttributeError: MLPRegressor has none of the following attributes: decision_function, predict_proba.\n",
      "\n",
      "  warnings.warn(\n",
      "/Users/evgeniikuriabov/PycharmProjects/JCGS_review/venv/lib/python3.9/site-packages/sklearn/neural_network/_multilayer_perceptron.py:546: ConvergenceWarning: lbfgs failed to converge (status=1):\n",
      "STOP: TOTAL NO. of ITERATIONS REACHED LIMIT.\n",
      "\n",
      "Increase the number of iterations (max_iter) or scale the data as shown in:\n",
      "    https://scikit-learn.org/stable/modules/preprocessing.html\n",
      "  self.n_iter_ = _check_optimize_result(\"lbfgs\", opt_res, self.max_iter)\n",
      "/Users/evgeniikuriabov/PycharmProjects/JCGS_review/venv/lib/python3.9/site-packages/sklearn/model_selection/_validation.py:960: UserWarning: Scoring failed. The score on this train-test partition for these parameters will be set to nan. Details: \n",
      "Traceback (most recent call last):\n",
      "  File \"/Users/evgeniikuriabov/PycharmProjects/JCGS_review/venv/lib/python3.9/site-packages/sklearn/model_selection/_validation.py\", line 949, in _score\n",
      "    scores = scorer(estimator, X_test, y_test, **score_params)\n",
      "  File \"/Users/evgeniikuriabov/PycharmProjects/JCGS_review/venv/lib/python3.9/site-packages/sklearn/metrics/_scorer.py\", line 288, in __call__\n",
      "    return self._score(partial(_cached_call, None), estimator, X, y_true, **_kwargs)\n",
      "  File \"/Users/evgeniikuriabov/PycharmProjects/JCGS_review/venv/lib/python3.9/site-packages/sklearn/metrics/_scorer.py\", line 379, in _score\n",
      "    response_method = _check_response_method(estimator, self._response_method)\n",
      "  File \"/Users/evgeniikuriabov/PycharmProjects/JCGS_review/venv/lib/python3.9/site-packages/sklearn/utils/validation.py\", line 2283, in _check_response_method\n",
      "    raise AttributeError(\n",
      "AttributeError: MLPRegressor has none of the following attributes: decision_function, predict_proba.\n",
      "\n",
      "  warnings.warn(\n",
      "/Users/evgeniikuriabov/PycharmProjects/JCGS_review/venv/lib/python3.9/site-packages/sklearn/neural_network/_multilayer_perceptron.py:546: ConvergenceWarning: lbfgs failed to converge (status=1):\n",
      "STOP: TOTAL NO. of ITERATIONS REACHED LIMIT.\n",
      "\n",
      "Increase the number of iterations (max_iter) or scale the data as shown in:\n",
      "    https://scikit-learn.org/stable/modules/preprocessing.html\n",
      "  self.n_iter_ = _check_optimize_result(\"lbfgs\", opt_res, self.max_iter)\n",
      "/Users/evgeniikuriabov/PycharmProjects/JCGS_review/venv/lib/python3.9/site-packages/sklearn/model_selection/_validation.py:960: UserWarning: Scoring failed. The score on this train-test partition for these parameters will be set to nan. Details: \n",
      "Traceback (most recent call last):\n",
      "  File \"/Users/evgeniikuriabov/PycharmProjects/JCGS_review/venv/lib/python3.9/site-packages/sklearn/model_selection/_validation.py\", line 949, in _score\n",
      "    scores = scorer(estimator, X_test, y_test, **score_params)\n",
      "  File \"/Users/evgeniikuriabov/PycharmProjects/JCGS_review/venv/lib/python3.9/site-packages/sklearn/metrics/_scorer.py\", line 288, in __call__\n",
      "    return self._score(partial(_cached_call, None), estimator, X, y_true, **_kwargs)\n",
      "  File \"/Users/evgeniikuriabov/PycharmProjects/JCGS_review/venv/lib/python3.9/site-packages/sklearn/metrics/_scorer.py\", line 379, in _score\n",
      "    response_method = _check_response_method(estimator, self._response_method)\n",
      "  File \"/Users/evgeniikuriabov/PycharmProjects/JCGS_review/venv/lib/python3.9/site-packages/sklearn/utils/validation.py\", line 2283, in _check_response_method\n",
      "    raise AttributeError(\n",
      "AttributeError: MLPRegressor has none of the following attributes: decision_function, predict_proba.\n",
      "\n",
      "  warnings.warn(\n",
      "/Users/evgeniikuriabov/PycharmProjects/JCGS_review/venv/lib/python3.9/site-packages/sklearn/neural_network/_multilayer_perceptron.py:546: ConvergenceWarning: lbfgs failed to converge (status=1):\n",
      "STOP: TOTAL NO. of ITERATIONS REACHED LIMIT.\n",
      "\n",
      "Increase the number of iterations (max_iter) or scale the data as shown in:\n",
      "    https://scikit-learn.org/stable/modules/preprocessing.html\n",
      "  self.n_iter_ = _check_optimize_result(\"lbfgs\", opt_res, self.max_iter)\n",
      "/Users/evgeniikuriabov/PycharmProjects/JCGS_review/venv/lib/python3.9/site-packages/sklearn/model_selection/_validation.py:960: UserWarning: Scoring failed. The score on this train-test partition for these parameters will be set to nan. Details: \n",
      "Traceback (most recent call last):\n",
      "  File \"/Users/evgeniikuriabov/PycharmProjects/JCGS_review/venv/lib/python3.9/site-packages/sklearn/model_selection/_validation.py\", line 949, in _score\n",
      "    scores = scorer(estimator, X_test, y_test, **score_params)\n",
      "  File \"/Users/evgeniikuriabov/PycharmProjects/JCGS_review/venv/lib/python3.9/site-packages/sklearn/metrics/_scorer.py\", line 288, in __call__\n",
      "    return self._score(partial(_cached_call, None), estimator, X, y_true, **_kwargs)\n",
      "  File \"/Users/evgeniikuriabov/PycharmProjects/JCGS_review/venv/lib/python3.9/site-packages/sklearn/metrics/_scorer.py\", line 379, in _score\n",
      "    response_method = _check_response_method(estimator, self._response_method)\n",
      "  File \"/Users/evgeniikuriabov/PycharmProjects/JCGS_review/venv/lib/python3.9/site-packages/sklearn/utils/validation.py\", line 2283, in _check_response_method\n",
      "    raise AttributeError(\n",
      "AttributeError: MLPRegressor has none of the following attributes: decision_function, predict_proba.\n",
      "\n",
      "  warnings.warn(\n",
      "/Users/evgeniikuriabov/PycharmProjects/JCGS_review/venv/lib/python3.9/site-packages/sklearn/neural_network/_multilayer_perceptron.py:546: ConvergenceWarning: lbfgs failed to converge (status=1):\n",
      "STOP: TOTAL NO. of ITERATIONS REACHED LIMIT.\n",
      "\n",
      "Increase the number of iterations (max_iter) or scale the data as shown in:\n",
      "    https://scikit-learn.org/stable/modules/preprocessing.html\n",
      "  self.n_iter_ = _check_optimize_result(\"lbfgs\", opt_res, self.max_iter)\n",
      "/Users/evgeniikuriabov/PycharmProjects/JCGS_review/venv/lib/python3.9/site-packages/sklearn/model_selection/_validation.py:960: UserWarning: Scoring failed. The score on this train-test partition for these parameters will be set to nan. Details: \n",
      "Traceback (most recent call last):\n",
      "  File \"/Users/evgeniikuriabov/PycharmProjects/JCGS_review/venv/lib/python3.9/site-packages/sklearn/model_selection/_validation.py\", line 949, in _score\n",
      "    scores = scorer(estimator, X_test, y_test, **score_params)\n",
      "  File \"/Users/evgeniikuriabov/PycharmProjects/JCGS_review/venv/lib/python3.9/site-packages/sklearn/metrics/_scorer.py\", line 288, in __call__\n",
      "    return self._score(partial(_cached_call, None), estimator, X, y_true, **_kwargs)\n",
      "  File \"/Users/evgeniikuriabov/PycharmProjects/JCGS_review/venv/lib/python3.9/site-packages/sklearn/metrics/_scorer.py\", line 379, in _score\n",
      "    response_method = _check_response_method(estimator, self._response_method)\n",
      "  File \"/Users/evgeniikuriabov/PycharmProjects/JCGS_review/venv/lib/python3.9/site-packages/sklearn/utils/validation.py\", line 2283, in _check_response_method\n",
      "    raise AttributeError(\n",
      "AttributeError: MLPRegressor has none of the following attributes: decision_function, predict_proba.\n",
      "\n",
      "  warnings.warn(\n",
      "/Users/evgeniikuriabov/PycharmProjects/JCGS_review/venv/lib/python3.9/site-packages/sklearn/neural_network/_multilayer_perceptron.py:546: ConvergenceWarning: lbfgs failed to converge (status=1):\n",
      "STOP: TOTAL NO. of ITERATIONS REACHED LIMIT.\n",
      "\n",
      "Increase the number of iterations (max_iter) or scale the data as shown in:\n",
      "    https://scikit-learn.org/stable/modules/preprocessing.html\n",
      "  self.n_iter_ = _check_optimize_result(\"lbfgs\", opt_res, self.max_iter)\n",
      "/Users/evgeniikuriabov/PycharmProjects/JCGS_review/venv/lib/python3.9/site-packages/sklearn/model_selection/_validation.py:960: UserWarning: Scoring failed. The score on this train-test partition for these parameters will be set to nan. Details: \n",
      "Traceback (most recent call last):\n",
      "  File \"/Users/evgeniikuriabov/PycharmProjects/JCGS_review/venv/lib/python3.9/site-packages/sklearn/model_selection/_validation.py\", line 949, in _score\n",
      "    scores = scorer(estimator, X_test, y_test, **score_params)\n",
      "  File \"/Users/evgeniikuriabov/PycharmProjects/JCGS_review/venv/lib/python3.9/site-packages/sklearn/metrics/_scorer.py\", line 288, in __call__\n",
      "    return self._score(partial(_cached_call, None), estimator, X, y_true, **_kwargs)\n",
      "  File \"/Users/evgeniikuriabov/PycharmProjects/JCGS_review/venv/lib/python3.9/site-packages/sklearn/metrics/_scorer.py\", line 379, in _score\n",
      "    response_method = _check_response_method(estimator, self._response_method)\n",
      "  File \"/Users/evgeniikuriabov/PycharmProjects/JCGS_review/venv/lib/python3.9/site-packages/sklearn/utils/validation.py\", line 2283, in _check_response_method\n",
      "    raise AttributeError(\n",
      "AttributeError: MLPRegressor has none of the following attributes: decision_function, predict_proba.\n",
      "\n",
      "  warnings.warn(\n",
      "/Users/evgeniikuriabov/PycharmProjects/JCGS_review/venv/lib/python3.9/site-packages/sklearn/neural_network/_multilayer_perceptron.py:546: ConvergenceWarning: lbfgs failed to converge (status=1):\n",
      "STOP: TOTAL NO. of ITERATIONS REACHED LIMIT.\n",
      "\n",
      "Increase the number of iterations (max_iter) or scale the data as shown in:\n",
      "    https://scikit-learn.org/stable/modules/preprocessing.html\n",
      "  self.n_iter_ = _check_optimize_result(\"lbfgs\", opt_res, self.max_iter)\n",
      "/Users/evgeniikuriabov/PycharmProjects/JCGS_review/venv/lib/python3.9/site-packages/sklearn/model_selection/_validation.py:960: UserWarning: Scoring failed. The score on this train-test partition for these parameters will be set to nan. Details: \n",
      "Traceback (most recent call last):\n",
      "  File \"/Users/evgeniikuriabov/PycharmProjects/JCGS_review/venv/lib/python3.9/site-packages/sklearn/model_selection/_validation.py\", line 949, in _score\n",
      "    scores = scorer(estimator, X_test, y_test, **score_params)\n",
      "  File \"/Users/evgeniikuriabov/PycharmProjects/JCGS_review/venv/lib/python3.9/site-packages/sklearn/metrics/_scorer.py\", line 288, in __call__\n",
      "    return self._score(partial(_cached_call, None), estimator, X, y_true, **_kwargs)\n",
      "  File \"/Users/evgeniikuriabov/PycharmProjects/JCGS_review/venv/lib/python3.9/site-packages/sklearn/metrics/_scorer.py\", line 379, in _score\n",
      "    response_method = _check_response_method(estimator, self._response_method)\n",
      "  File \"/Users/evgeniikuriabov/PycharmProjects/JCGS_review/venv/lib/python3.9/site-packages/sklearn/utils/validation.py\", line 2283, in _check_response_method\n",
      "    raise AttributeError(\n",
      "AttributeError: MLPRegressor has none of the following attributes: decision_function, predict_proba.\n",
      "\n",
      "  warnings.warn(\n",
      "/Users/evgeniikuriabov/PycharmProjects/JCGS_review/venv/lib/python3.9/site-packages/sklearn/neural_network/_multilayer_perceptron.py:546: ConvergenceWarning: lbfgs failed to converge (status=1):\n",
      "STOP: TOTAL NO. of ITERATIONS REACHED LIMIT.\n",
      "\n",
      "Increase the number of iterations (max_iter) or scale the data as shown in:\n",
      "    https://scikit-learn.org/stable/modules/preprocessing.html\n",
      "  self.n_iter_ = _check_optimize_result(\"lbfgs\", opt_res, self.max_iter)\n",
      "/Users/evgeniikuriabov/PycharmProjects/JCGS_review/venv/lib/python3.9/site-packages/sklearn/model_selection/_validation.py:960: UserWarning: Scoring failed. The score on this train-test partition for these parameters will be set to nan. Details: \n",
      "Traceback (most recent call last):\n",
      "  File \"/Users/evgeniikuriabov/PycharmProjects/JCGS_review/venv/lib/python3.9/site-packages/sklearn/model_selection/_validation.py\", line 949, in _score\n",
      "    scores = scorer(estimator, X_test, y_test, **score_params)\n",
      "  File \"/Users/evgeniikuriabov/PycharmProjects/JCGS_review/venv/lib/python3.9/site-packages/sklearn/metrics/_scorer.py\", line 288, in __call__\n",
      "    return self._score(partial(_cached_call, None), estimator, X, y_true, **_kwargs)\n",
      "  File \"/Users/evgeniikuriabov/PycharmProjects/JCGS_review/venv/lib/python3.9/site-packages/sklearn/metrics/_scorer.py\", line 379, in _score\n",
      "    response_method = _check_response_method(estimator, self._response_method)\n",
      "  File \"/Users/evgeniikuriabov/PycharmProjects/JCGS_review/venv/lib/python3.9/site-packages/sklearn/utils/validation.py\", line 2283, in _check_response_method\n",
      "    raise AttributeError(\n",
      "AttributeError: MLPRegressor has none of the following attributes: decision_function, predict_proba.\n",
      "\n",
      "  warnings.warn(\n",
      "/Users/evgeniikuriabov/PycharmProjects/JCGS_review/venv/lib/python3.9/site-packages/sklearn/neural_network/_multilayer_perceptron.py:546: ConvergenceWarning: lbfgs failed to converge (status=1):\n",
      "STOP: TOTAL NO. of ITERATIONS REACHED LIMIT.\n",
      "\n",
      "Increase the number of iterations (max_iter) or scale the data as shown in:\n",
      "    https://scikit-learn.org/stable/modules/preprocessing.html\n",
      "  self.n_iter_ = _check_optimize_result(\"lbfgs\", opt_res, self.max_iter)\n",
      "/Users/evgeniikuriabov/PycharmProjects/JCGS_review/venv/lib/python3.9/site-packages/sklearn/model_selection/_validation.py:960: UserWarning: Scoring failed. The score on this train-test partition for these parameters will be set to nan. Details: \n",
      "Traceback (most recent call last):\n",
      "  File \"/Users/evgeniikuriabov/PycharmProjects/JCGS_review/venv/lib/python3.9/site-packages/sklearn/model_selection/_validation.py\", line 949, in _score\n",
      "    scores = scorer(estimator, X_test, y_test, **score_params)\n",
      "  File \"/Users/evgeniikuriabov/PycharmProjects/JCGS_review/venv/lib/python3.9/site-packages/sklearn/metrics/_scorer.py\", line 288, in __call__\n",
      "    return self._score(partial(_cached_call, None), estimator, X, y_true, **_kwargs)\n",
      "  File \"/Users/evgeniikuriabov/PycharmProjects/JCGS_review/venv/lib/python3.9/site-packages/sklearn/metrics/_scorer.py\", line 379, in _score\n",
      "    response_method = _check_response_method(estimator, self._response_method)\n",
      "  File \"/Users/evgeniikuriabov/PycharmProjects/JCGS_review/venv/lib/python3.9/site-packages/sklearn/utils/validation.py\", line 2283, in _check_response_method\n",
      "    raise AttributeError(\n",
      "AttributeError: MLPRegressor has none of the following attributes: decision_function, predict_proba.\n",
      "\n",
      "  warnings.warn(\n",
      "/Users/evgeniikuriabov/PycharmProjects/JCGS_review/venv/lib/python3.9/site-packages/sklearn/model_selection/_search.py:1108: UserWarning: One or more of the test scores are non-finite: [nan nan nan nan]\n",
      "  warnings.warn(\n",
      "/Users/evgeniikuriabov/PycharmProjects/JCGS_review/venv/lib/python3.9/site-packages/sklearn/neural_network/_multilayer_perceptron.py:546: ConvergenceWarning: lbfgs failed to converge (status=1):\n",
      "STOP: TOTAL NO. of ITERATIONS REACHED LIMIT.\n",
      "\n",
      "Increase the number of iterations (max_iter) or scale the data as shown in:\n",
      "    https://scikit-learn.org/stable/modules/preprocessing.html\n",
      "  self.n_iter_ = _check_optimize_result(\"lbfgs\", opt_res, self.max_iter)\n"
     ]
    },
    {
     "name": "stdout",
     "output_type": "stream",
     "text": [
      "MLP Best Params: {'alpha': 0.0001, 'hidden_layer_sizes': (50,)}\n",
      "MLP RMSE Train: 91.3991\n",
      "MLP RMSE Test:  95.9555\n",
      "\n",
      "Evaluating LRFClassifier over ntree = [100, 500]…\n",
      " LRF ntree=100 → Train RMSE=24.3424, Test RMSE=56.5069\n",
      " LRF ntree=500 → Train RMSE=23.2126, Test RMSE=55.5041\n",
      "LRF best ntree = 100\n",
      "k: 10\n",
      "k: 20\n",
      "k: 30\n",
      "k: 40\n",
      "k: 50\n",
      "Best k: 50, Best RMSE score: 76.16507469945431\n",
      "RMSE: 73.9745244919734\n"
     ]
    }
   ],
   "source": [
    "m = 100 # Number of new points used for data augmentation (by co-supervision)\n",
    "min_var = np.mean(np.var(X_train, axis=0))\n",
    "\n",
    "def predict_mixture_of_models(X, local_models, kmeans):\n",
    "    cluster_assignments = kmeans.predict(X)\n",
    "    \n",
    "    predictions = np.zeros_like(X[:, 0]) \n",
    "\n",
    "    for cluster, model in enumerate(local_models):\n",
    "        cluster_indices = np.where(cluster_assignments == cluster)\n",
    "        X_cluster = X[cluster_indices]\n",
    "        predictions[cluster_indices] += model.predict(X_cluster)\n",
    "\n",
    "    return predictions\n",
    "\n",
    "def evaluate_overall_model(X, y, k, clf_models, classification=False):\n",
    "    kmeans = KMeans(n_clusters=k, n_init=100)\n",
    "    cluster_assignments = kmeans.fit_predict(X)\n",
    "    \n",
    "    roc_score = float('inf')\n",
    "\n",
    "    local_models = []\n",
    "    for cluster in range(k):\n",
    "        cluster_indices = np.where(cluster_assignments == cluster)\n",
    "\n",
    "        X_cluster = X[cluster_indices]\n",
    "        y_cluster = y[cluster_indices]\n",
    "        \n",
    "        if len(np.unique(y_cluster)) < 2:\n",
    "            clf = sorted_clf[-1][0]\n",
    "#             print(\"cluster:\", cluster)\n",
    "        else:\n",
    "            for i in clf_models:\n",
    "#                 print(\"model in cluster:\", i, \"accuracy\", roc_auc_score(y_cluster, i.predict(X_cluster)))\n",
    "                if rmse(y_cluster, i.predict(X_cluster)) <= roc_score:\n",
    "                    roc_score = rmse(y_cluster, i.predict(X_cluster))\n",
    "                    clf = i\n",
    "#                 print(\"best model:\", clf)\n",
    "\n",
    "        def chol_sample(mean, cov, size=1):\n",
    "            cholesky_cov = np.linalg.cholesky(cov)\n",
    "            random_samp = np.array([mean + cholesky_cov @ np.random.standard_normal(mean.size) for i in range(size)])\n",
    "            return random_samp\n",
    "        \n",
    "#         cov = np.diag(np.zeros(X_cluster.shape[1]) + 0.001)\n",
    "        \n",
    "        sample_mean = np.mean(X_cluster, axis=0)\n",
    "            \n",
    "#         perturbed_samples = chol_sample(sample_mean, cov, m)\n",
    "\n",
    "        variances = np.var(X_cluster, axis=0)\n",
    "  \n",
    "        perturbed_samples = np.random.normal(loc=sample_mean, scale=np.sqrt(variances), size=(m, X_cluster.shape[1]))\n",
    "        \n",
    "        perturbed_predictions = clf.predict(perturbed_samples)\n",
    "        \n",
    "        X_cluster = np.concatenate((X_cluster, perturbed_samples))\n",
    "        y_cluster = np.concatenate((y_cluster, perturbed_predictions))\n",
    "        augmented_data[k][cluster] = X_cluster\n",
    "        augmented_y[k][cluster] = y_cluster\n",
    "        clf_model[k][cluster] = clf\n",
    "\n",
    "        if classification == True:\n",
    "            if len(np.unique(y_cluster)) == 1:\n",
    "                model = LogisticRegression(solver='saga')\n",
    "                model.classes_ = np.unique(y_cluster)\n",
    "                model.coef_ = np.zeros((1, X.shape[1]))\n",
    "                model.intercept_ = 0.0\n",
    "            else:\n",
    "                model = LogisticRegression(solver='saga')\n",
    "                model.fit(X_cluster, y_cluster)\n",
    "        else:\n",
    "            model = LinearRegression()\n",
    "            model.fit(X_cluster, y_cluster)\n",
    "        local_models.append(model)\n",
    "        models_all[k][cluster] = model\n",
    "\n",
    "    predictions = predict_mixture_of_models(X, local_models, kmeans)\n",
    "    overall_score = rmse(y, predictions)\n",
    "    \n",
    "    return overall_score, augmented_data, augmented_y, models_all\n",
    "\n",
    "X_train, y_train = np.array(X_train), np.array(y_train)\n",
    "X_test, y_test = np.array(X_test), np.array(y_test)\n",
    "\n",
    "# Set the maximum possible value of k\n",
    "max_k = 50\n",
    "\n",
    "# Iterate over different values of k and record the performance\n",
    "best_k = None\n",
    "best_score = float('inf')\n",
    "augmented_data = {}\n",
    "augmented_y = {}\n",
    "models_all = {}\n",
    "clf_model = {}\n",
    "\n",
    "best_models = run_grid_search_models(X_train, X_test, y_train, y_test)\n",
    "clf_1 = best_models[\"RF\"]\n",
    "clf_2 = best_models[\"GB\"]\n",
    "clf_3 = best_models[\"MLP\"]\n",
    "clf_4 = best_models[\"LRF\"]\n",
    "\n",
    "clfs = [clf_1, clf_2, clf_3, clf_4]\n",
    "# clfs = [clf_1]\n",
    "\n",
    "sorted_clf = []\n",
    "for i in clfs:\n",
    "    sorted_clf.append((i, rmse(i.predict(X_train), y_train)))\n",
    "sorted_clf = sorted(sorted_clf, key=lambda x: x[1])\n",
    "\n",
    "for k in range(10, max_k + 1, 10):\n",
    "    print(\"k:\", k)\n",
    "    augmented_data[k] = {}\n",
    "    augmented_y[k] = {}\n",
    "    models_all[k] = {}\n",
    "    clf_model[k] ={}\n",
    "    \n",
    "    overall_score = evaluate_overall_model(X_train, y_train, k, clfs, classification=False)\n",
    "\n",
    "    # Update best_k if a higher overall score is achieved\n",
    "    if overall_score[0] < best_score:\n",
    "        best_score = overall_score[0]\n",
    "        best_k = k\n",
    "\n",
    "# Final model using the best k\n",
    "kmeans = KMeans(n_clusters=best_k, n_init=100)\n",
    "cluster_assignments = kmeans.fit_predict(X_train)\n",
    "\n",
    "local_models = []\n",
    "for cluster in range(best_k):\n",
    "    cluster_indices = np.where(cluster_assignments == cluster)\n",
    "    X_cluster = X_train[cluster_indices]\n",
    "    y_cluster = y_train[cluster_indices]\n",
    "\n",
    "    model = LinearRegression()\n",
    "    model.fit(X_cluster, y_cluster)\n",
    "    local_models.append(model)\n",
    "\n",
    "predictions = predict_mixture_of_models(X_train, local_models, kmeans)\n",
    "print(f\"Best k: {best_k}, Best RMSE score: {best_score}\")\n",
    "print(\"RMSE:\", rmse(y_train, predictions))"
   ],
   "metadata": {
    "collapsed": false,
    "ExecuteTime": {
     "end_time": "2025-08-17T18:56:20.023957Z",
     "start_time": "2025-08-17T18:51:39.628461Z"
    }
   },
   "id": "794940a2"
  },
  {
   "cell_type": "markdown",
   "source": [
    "### Growing the Tree"
   ],
   "metadata": {
    "collapsed": false
   },
   "id": "e9041edf"
  },
  {
   "cell_type": "code",
   "execution_count": 14,
   "outputs": [],
   "source": [
    "best_k = 50\n",
    "kmeans = KMeans(n_clusters=best_k, n_init=100)\n",
    "cluster_assignments = kmeans.fit_predict(X_train)"
   ],
   "metadata": {
    "collapsed": false,
    "ExecuteTime": {
     "end_time": "2025-08-17T18:56:43.423768Z",
     "start_time": "2025-08-17T18:56:20.018351Z"
    }
   },
   "id": "f9fad928"
  },
  {
   "cell_type": "code",
   "execution_count": 15,
   "outputs": [],
   "source": [
    "# Function to predict using the mixture of linear models\n",
    "def predict_mixture_of_models(X, local_models, kmeans):\n",
    "    cluster_assignments = kmeans.predict(X)\n",
    "    \n",
    "    predictions = np.zeros_like(X[:, 0])  # Initialize predictions\n",
    "\n",
    "    for cluster, model in enumerate(local_models):\n",
    "        cluster_indices = np.where(cluster_assignments == cluster)\n",
    "        X_cluster = X[cluster_indices]\n",
    "        predictions[cluster_indices] += model.predict(X_cluster)\n",
    "\n",
    "    return predictions\n",
    "\n",
    "# Function to evaluate overall model performance for a given k\n",
    "def evaluate_overall_model(X, y, k, clf_models, classification=False):\n",
    "    rmse_score = float('inf')\n",
    "\n",
    "    local_models = []\n",
    "    for cluster in range(k):\n",
    "        cluster_indices = np.where(cluster_assignments == cluster)\n",
    "        X_cluster = X_train[cluster_indices]\n",
    "        y_cluster = y_train[cluster_indices]\n",
    "        \n",
    "        if len(np.unique(y_cluster)) < 2:\n",
    "            clf = sorted_clf[0][0]\n",
    "#             print(\"cluster:\", cluster)\n",
    "        else:\n",
    "            for i in clf_models:\n",
    "                if rmse(y_cluster, i.predict(X_cluster)) <= rmse_score:\n",
    "                    rmse_score = rmse(y_cluster, i.predict(X_cluster))\n",
    "                    clf = i\n",
    "                    \n",
    "        sample_mean = np.mean(X_cluster, axis=0)\n",
    "        \n",
    "        variances = np.var(X_cluster, axis=0)\n",
    "  \n",
    "        perturbed_samples = np.random.normal(loc=sample_mean, scale=np.sqrt(variances), size=(m, X_cluster.shape[1]))\n",
    "        \n",
    "        perturbed_predictions = clf.predict(perturbed_samples)\n",
    "        \n",
    "        X_cluster = np.concatenate((X_cluster, perturbed_samples))\n",
    "        y_cluster = np.concatenate((y_cluster, perturbed_predictions))\n",
    "        augmented_data[k][cluster] = X_cluster\n",
    "        augmented_y[k][cluster] = y_cluster\n",
    "        clf_model[k][cluster] = clf\n",
    "\n",
    "        if classification == True:\n",
    "            if len(np.unique(y_cluster)) == 1:\n",
    "                model = LogisticRegression(solver='saga')\n",
    "                model.classes_ = np.unique(y_cluster)\n",
    "                model.coef_ = np.zeros((1, X_train.shape[1]))\n",
    "                model.intercept_ = 0.0\n",
    "            else:\n",
    "                model = LogisticRegression(solver='saga')\n",
    "                model.fit(X_cluster, y_cluster)\n",
    "        else:\n",
    "            model = LinearRegression()\n",
    "            model.fit(X_cluster, y_cluster)\n",
    "        local_models.append(model)\n",
    "        models_all[k][cluster] = model\n",
    "\n",
    "    predictions = predict_mixture_of_models(X_train, local_models, kmeans)\n",
    "    overall_score = rmse(y_train, predictions)\n",
    "    \n",
    "    return overall_score, augmented_data, augmented_y, models_all"
   ],
   "metadata": {
    "collapsed": false,
    "ExecuteTime": {
     "end_time": "2025-08-17T18:56:43.438458Z",
     "start_time": "2025-08-17T18:56:43.434627Z"
    }
   },
   "id": "b3aaa063"
  },
  {
   "cell_type": "code",
   "execution_count": 16,
   "id": "812c7fb9",
   "metadata": {
    "scrolled": true,
    "ExecuteTime": {
     "end_time": "2025-08-17T18:57:24.696885Z",
     "start_time": "2025-08-17T18:56:43.459402Z"
    }
   },
   "outputs": [
    {
     "name": "stdout",
     "output_type": "stream",
     "text": [
      "k: 50\n",
      "Max Depth 5\n",
      "Current Depth: 1\n",
      "Current:  1 127.07074398495584 <DECISION_TREE_CLASSIFIER.DistanceDecisionTree object at 0x33f37c790>\n",
      "Current Depth: 2\n",
      "Current:  2 113.70044264899798 <DECISION_TREE_CLASSIFIER.DistanceDecisionTree object at 0x365151430>\n",
      "Current Depth: 3\n",
      "Current:  3 90.83204540323197 <DECISION_TREE_CLASSIFIER.DistanceDecisionTree object at 0x33c7d6520>\n",
      "Current Depth: 4\n",
      "Current:  4 86.77383590800567 <DECISION_TREE_CLASSIFIER.DistanceDecisionTree object at 0x1775e7640>\n",
      "Current Depth: 5\n",
      "Current:  5 83.22937525260383 <DECISION_TREE_CLASSIFIER.DistanceDecisionTree object at 0x33c713970>\n",
      "Best Depth: 5 Train: 77.9089888841465 Test: 81.97259932998894 Val: 83.22937525260383\n",
      "S_interp: 10.23044142714395\n"
     ]
    }
   ],
   "source": [
    "from sklearn.metrics import accuracy_score\n",
    "from sklearn.model_selection import KFold\n",
    "\n",
    "n_folds = 10\n",
    "kf = KFold(n_splits=n_folds, shuffle=True, random_state=0)\n",
    "\n",
    "\n",
    "RMSE_test = []\n",
    "RMSE_train = []\n",
    "RMSE_beom_train = []\n",
    "RMSE_beom_test = []\n",
    "Best_depth = []\n",
    "\n",
    "results = []\n",
    "m = 100\n",
    "\n",
    "clfs = [clf_1, clf_2, clf_3, clf_4]\n",
    "# clfs = [clf_1]\n",
    "\n",
    "for test in range(1):\n",
    "    # Set the maximum possible value of k\n",
    "    max_k = 50\n",
    "\n",
    "    # Iterate over different values of k and record the performance\n",
    "    best_score = float('inf')  # Initialize with a very low value\n",
    "    augmented_data = {}\n",
    "    augmented_y = {}\n",
    "    models_all = {}\n",
    "    clf_model = {}\n",
    "\n",
    "    sorted_clf = []\n",
    "    for i in clfs:\n",
    "        sorted_clf.append((i, rmse(i.predict(X_train), y_train)))\n",
    "    sorted_clf = sorted(sorted_clf, key=lambda x: x[1])\n",
    "\n",
    "    for k in range(50, max_k + 1):\n",
    "        print(\"k:\", k)\n",
    "        augmented_data[k] = {}\n",
    "        augmented_y[k] = {}\n",
    "        models_all[k] = {}\n",
    "        clf_model[k] ={}\n",
    "\n",
    "        overall_score = evaluate_overall_model(X_train, y_train, k, clfs, classification=False)\n",
    "\n",
    "        # Update best_k if a higher overall score is achieved\n",
    "        if overall_score[0] <= best_score:\n",
    "            best_score = overall_score[0]\n",
    "            best_k = k\n",
    "\n",
    "    local_models = []\n",
    "    for cluster in range(best_k):\n",
    "        cluster_indices = np.where(cluster_assignments == cluster)\n",
    "        X_cluster = X_train[cluster_indices]\n",
    "        y_cluster = y_train[cluster_indices]\n",
    "\n",
    "        model = LinearRegression()\n",
    "        model.fit(X_cluster, y_cluster)\n",
    "        local_models.append(model)\n",
    "\n",
    "    predictions = predict_mixture_of_models(X_train, local_models, kmeans)\n",
    "\n",
    "    import statistics\n",
    "\n",
    "    dist = pd.DataFrame(dist_matrix(best_k, classification=False))\n",
    "\n",
    "    CELL_centers = []\n",
    "    CELL_variances = []\n",
    "    for i in augmented_data[best_k]:\n",
    "        CELL_variances.append(np.sqrt(np.var(augmented_data[best_k][i], axis=0)))\n",
    "        CELL_centers.append(np.mean(augmented_data[best_k][i], axis=0))\n",
    "    cells_df = pd.DataFrame(CELL_centers)\n",
    "\n",
    "    y_local = []\n",
    "    for i in range(len(CELL_centers)):\n",
    "        y_local.append(statistics.mode(augmented_y[best_k][i]))\n",
    "\n",
    "\n",
    "    import DECISION_TREE_CLASSIFIER as dtc\n",
    "\n",
    "    for k in range(1, 2):\n",
    "        rmse_curr = float('inf')\n",
    "        rmse_curr_train = float('inf')\n",
    "        best_depth = float('inf')\n",
    "\n",
    "        tree = dtc.DistanceDecisionTree(max_depth=5, classification=False)\n",
    "\n",
    "        tree.fit(np.array(cells_df), np.array(dist))\n",
    "\n",
    "        data_transformed = [augmented_data[best_k][key] for key in range(len(augmented_data[best_k]))]\n",
    "        data_transformed_y = [augmented_y[best_k][key] for key in range(len(augmented_y[best_k]))]\n",
    "            \n",
    "        X_transformed = np.array([item for sublist in [arr.tolist() for arr in data_transformed] for item in sublist])\n",
    "        y_transformed = np.array([item for sublist in [arr.tolist() for arr in data_transformed_y] for item in sublist])\n",
    "  \n",
    "        print(\"Max Depth\", tree.final_depth)\n",
    "\n",
    "        cv_scores = {}\n",
    "        test_score = {}\n",
    "        train_score = {}\n",
    "        best_tree = None\n",
    "        best_cv = float('inf')  # we minimize RMSE\n",
    "        \n",
    "        for i in range(1, tree.final_depth + 1):\n",
    "            \n",
    "            fold_scores = []\n",
    "            fold_test = []\n",
    "            fold_train = []\n",
    "            \n",
    "            for train_idx, val_idx in kf.split(X_transformed):\n",
    "\n",
    "                X_train_fold, X_val = X_transformed[train_idx], X_transformed[val_idx]\n",
    "                y_train_fold, y_val = y_transformed[train_idx], y_transformed[val_idx]\n",
    "            \n",
    "                tree = dtc.DistanceDecisionTree(max_depth=i, classification=False)\n",
    "\n",
    "                tree.fit(np.array(cells_df), np.array(dist))\n",
    "\n",
    "                tree.fit_leaf_logistic_models(X_train_fold, y_train_fold)\n",
    "\n",
    "                Y_pred_train = tree.predict(X_train_fold, y_train_fold)\n",
    "                Y_pred_train = [a[0] if type(a[0])==np.float64 else a[0][0] for a in Y_pred_train]\n",
    "                Y_pred = tree.predict(X_val, y_val)\n",
    "                Y_pred = [a[0] if type(a[0])==np.float64 else a[0][0] for a in Y_pred]\n",
    "                Y_pred_test = tree.predict(X_test, y_test)\n",
    "                Y_pred_test = [a[0] if type(a[0])==np.float64 else a[0][0] for a in Y_pred_test]\n",
    "\n",
    "                fold_accuracy = rmse(y_val, Y_pred)\n",
    "                \n",
    "                fold_scores.append(fold_accuracy)\n",
    "                fold_train.append(rmse(y_train, tree.predict(X_train, y_train)))\n",
    "                fold_test.append(rmse(y_test, Y_pred_test))\n",
    "\n",
    "            print(f\"Current Depth: {i}\")\n",
    "            cv_scores[i] = np.mean(fold_scores)\n",
    "            test_score[i] = np.mean(fold_test)\n",
    "            train_score[i] = np.mean(fold_train)\n",
    "            \n",
    "            if cv_scores[i] < best_cv:\n",
    "                best_cv = cv_scores[i]\n",
    "                best_tree = tree.copy()\n",
    "                \n",
    "    best_depth = min(cv_scores, key=lambda k: cv_scores[k])\n",
    "    print(\"Best Depth:\", best_depth, \"Train:\", train_score[best_depth], \"Test:\", \n",
    "          test_score[best_depth], \"Val:\", cv_scores[best_depth])\n",
    "    print(\"S_interp:\", best_tree.interp_info()[1])"
   ]
  },
  {
   "cell_type": "code",
   "execution_count": 19,
   "id": "ebabea63",
   "metadata": {
    "ExecuteTime": {
     "end_time": "2025-08-17T19:17:39.439770Z",
     "start_time": "2025-08-17T19:17:39.420352Z"
    }
   },
   "outputs": [
    {
     "name": "stdout",
     "output_type": "stream",
     "text": [
      "Feature 2 <= 12.547955434526937\n",
      "Left:\n",
      "  Feature 2 <= 7.419328938138124\n",
      "  Left:\n",
      "    Feature 2 <= 4.3551647758185075\n",
      "    Left:\n",
      "      Feature 2 <= 1.5181345874305257\n",
      "      Left:\n",
      "        Feature 9 <= 0.16143077575018022\n",
      "        Left:\n",
      "          Leaf: Accuracy Test= 24.0302\n",
      "          Model: <statsmodels.regression.linear_model.RegressionResultsWrapper object at 0x33f007730>\n",
      "        Right:\n",
      "          Leaf: Accuracy Test= 22.4591\n",
      "          Model: <statsmodels.regression.linear_model.RegressionResultsWrapper object at 0x33f007940>\n",
      "      Right:\n",
      "        Feature 0 <= 0.49705504742308354\n",
      "        Left:\n",
      "          Leaf: Accuracy Test= 10.9890\n",
      "          Model: <statsmodels.regression.linear_model.RegressionResultsWrapper object at 0x33f007fa0>\n",
      "        Right:\n",
      "          Leaf: Accuracy Test= 15.3574\n",
      "          Model: <statsmodels.regression.linear_model.RegressionResultsWrapper object at 0x1775cdf10>\n",
      "    Right:\n",
      "      Feature 0 <= 0.4661494004671593\n",
      "      Left:\n",
      "        Leaf: Accuracy Test= 69.5787\n",
      "        Model: <statsmodels.regression.linear_model.RegressionResultsWrapper object at 0x1775cd820>\n",
      "      Right:\n",
      "        Feature 2 <= 5.109360936587249\n",
      "        Left:\n",
      "          Leaf: Accuracy Test= 8.4838\n",
      "          Model: <statsmodels.regression.linear_model.RegressionResultsWrapper object at 0x1775cd1f0>\n",
      "        Right:\n",
      "          Leaf: Accuracy Test= 109.5216\n",
      "          Model: <statsmodels.regression.linear_model.RegressionResultsWrapper object at 0x335eea460>\n",
      "  Right:\n",
      "    Feature 2 <= 9.674837520715588\n",
      "    Left:\n",
      "      Feature 3 <= 0.030859446019284167\n",
      "      Left:\n",
      "        Feature 0 <= 0.46941897571056257\n",
      "        Left:\n",
      "          Leaf: Accuracy Test= 91.1853\n",
      "          Model: <statsmodels.regression.linear_model.RegressionResultsWrapper object at 0x36512beb0>\n",
      "        Right:\n",
      "          Leaf: Accuracy Test= 146.9548\n",
      "          Model: <statsmodels.regression.linear_model.RegressionResultsWrapper object at 0x1775df160>\n",
      "      Right:\n",
      "        Feature 0 <= 0.4863895955644892\n",
      "        Left:\n",
      "          Leaf: Accuracy Test= 81.9737\n",
      "          Model: <statsmodels.regression.linear_model.RegressionResultsWrapper object at 0x33c7d6580>\n",
      "        Right:\n",
      "          Leaf: Accuracy Test= 140.3059\n",
      "          Model: <statsmodels.regression.linear_model.RegressionResultsWrapper object at 0x33eff86a0>\n",
      "    Right:\n",
      "      Feature 4 <= 1.339987175474137\n",
      "      Left:\n",
      "        Feature 0 <= 0.4854611539751409\n",
      "        Left:\n",
      "          Leaf: Accuracy Test= 53.0691\n",
      "          Model: <statsmodels.regression.linear_model.RegressionResultsWrapper object at 0x33eff8040>\n",
      "        Right:\n",
      "          Leaf: Accuracy Test= 75.0793\n",
      "          Model: <statsmodels.regression.linear_model.RegressionResultsWrapper object at 0x33efdf850>\n",
      "      Right:\n",
      "        Feature 0 <= 0.48414967597538383\n",
      "        Left:\n",
      "          Leaf: Accuracy Test= 51.5298\n",
      "          Model: <statsmodels.regression.linear_model.RegressionResultsWrapper object at 0x33efdf0a0>\n",
      "        Right:\n",
      "          Leaf: Accuracy Test= 70.0113\n",
      "          Model: <statsmodels.regression.linear_model.RegressionResultsWrapper object at 0x33efdf100>\n",
      "Right:\n",
      "  Feature 2 <= 17.416997395339266\n",
      "  Left:\n",
      "    Feature 2 <= 16.13025891029866\n",
      "    Left:\n",
      "      Feature 6 <= 0.6369758367284986\n",
      "      Left:\n",
      "        Feature 0 <= 0.48972091443872834\n",
      "        Left:\n",
      "          Leaf: Accuracy Test= 57.1870\n",
      "          Model: <statsmodels.regression.linear_model.RegressionResultsWrapper object at 0x33f032130>\n",
      "        Right:\n",
      "          Leaf: Accuracy Test= 82.1220\n",
      "          Model: <statsmodels.regression.linear_model.RegressionResultsWrapper object at 0x335fb8670>\n",
      "      Right:\n",
      "        Feature 0 <= 0.4806024389044217\n",
      "        Left:\n",
      "          Leaf: Accuracy Test= 66.5363\n",
      "          Model: <statsmodels.regression.linear_model.RegressionResultsWrapper object at 0x33efda280>\n",
      "        Right:\n",
      "          Leaf: Accuracy Test= 86.3112\n",
      "          Model: <statsmodels.regression.linear_model.RegressionResultsWrapper object at 0x33efda850>\n",
      "    Right:\n",
      "      Feature 1 <= 4.8635348158291425\n",
      "      Left:\n",
      "        Feature 0 <= 0.4741055931851996\n",
      "        Left:\n",
      "          Leaf: Accuracy Test= 61.1685\n",
      "          Model: <statsmodels.regression.linear_model.RegressionResultsWrapper object at 0x33efda880>\n",
      "        Right:\n",
      "          Leaf: Accuracy Test= 88.7144\n",
      "          Model: <statsmodels.regression.linear_model.RegressionResultsWrapper object at 0x33efdaf70>\n",
      "      Right:\n",
      "        Feature 0 <= 0.46607691878818835\n",
      "        Left:\n",
      "          Leaf: Accuracy Test= 91.6835\n",
      "          Model: <statsmodels.regression.linear_model.RegressionResultsWrapper object at 0x33efdafd0>\n",
      "        Right:\n",
      "          Leaf: Accuracy Test= 133.0369\n",
      "          Model: <statsmodels.regression.linear_model.RegressionResultsWrapper object at 0x33f37cf40>\n",
      "  Right:\n",
      "    Feature 6 <= 0.3930219336721437\n",
      "    Left:\n",
      "      Feature 1 <= 1.9878475684233654\n",
      "      Left:\n",
      "        Leaf: Accuracy Test= 59.3994\n",
      "        Model: <statsmodels.regression.linear_model.RegressionResultsWrapper object at 0x33f37c760>\n",
      "      Right:\n",
      "        Feature 0 <= 0.49065547622795375\n",
      "        Left:\n",
      "          Leaf: Accuracy Test= 55.8753\n",
      "          Model: <statsmodels.regression.linear_model.RegressionResultsWrapper object at 0x33f37ce80>\n",
      "        Right:\n",
      "          Leaf: Accuracy Test= 87.5761\n",
      "          Model: <statsmodels.regression.linear_model.RegressionResultsWrapper object at 0x33f37c2b0>\n",
      "    Right:\n",
      "      Feature 6 <= 0.6761528997899195\n",
      "      Left:\n",
      "        Feature 0 <= 0.533390655263067\n",
      "        Left:\n",
      "          Leaf: Accuracy Test= 87.5143\n",
      "          Model: <statsmodels.regression.linear_model.RegressionResultsWrapper object at 0x33f37c520>\n",
      "        Right:\n",
      "          Leaf: Accuracy Test= 124.9976\n",
      "          Model: <statsmodels.regression.linear_model.RegressionResultsWrapper object at 0x33f37c250>\n",
      "      Right:\n",
      "        Feature 0 <= 0.504538705327332\n",
      "        Left:\n",
      "          Leaf: Accuracy Test= 89.0752\n",
      "          Model: <statsmodels.regression.linear_model.RegressionResultsWrapper object at 0x33f37c7f0>\n",
      "        Right:\n",
      "          Leaf: Accuracy Test= 131.0048\n",
      "          Model: <statsmodels.regression.linear_model.RegressionResultsWrapper object at 0x33f37c0a0>\n"
     ]
    }
   ],
   "source": [
    "best_tree.print_tree()"
   ]
  },
  {
   "cell_type": "code",
   "execution_count": 20,
   "id": "31a93032",
   "metadata": {
    "ExecuteTime": {
     "end_time": "2025-08-17T19:17:45.065665Z",
     "start_time": "2025-08-17T19:17:45.045801Z"
    }
   },
   "outputs": [],
   "source": [
    "def collect_models_from_tree(node, models_list, leaves_sizes):\n",
    "    if 'leaf' in node:\n",
    "        models_list.append(node['model'])\n",
    "        leaves_sizes.append(len(node['data_indices']))\n",
    "    else:\n",
    "        if 'left' in node:\n",
    "            collect_models_from_tree(node['left'], models_list, leaves_sizes)\n",
    "        if 'right' in node:\n",
    "            collect_models_from_tree(node['right'], models_list, leaves_sizes)"
   ]
  },
  {
   "cell_type": "code",
   "execution_count": 21,
   "id": "7b470ad9",
   "metadata": {
    "ExecuteTime": {
     "end_time": "2025-08-17T19:17:45.781530Z",
     "start_time": "2025-08-17T19:17:45.765606Z"
    }
   },
   "outputs": [],
   "source": [
    "MODELS = []\n",
    "leaves_sizes = []\n",
    "collect_models_from_tree(tree.tree, MODELS, leaves_sizes)"
   ]
  },
  {
   "cell_type": "code",
   "execution_count": 22,
   "id": "7bb74de1",
   "metadata": {
    "ExecuteTime": {
     "end_time": "2025-08-17T19:17:46.382020Z",
     "start_time": "2025-08-17T19:17:46.368634Z"
    }
   },
   "outputs": [],
   "source": [
    "MODELS = [value for value in MODELS if value is not None]"
   ]
  },
  {
   "cell_type": "code",
   "execution_count": 23,
   "id": "215de140",
   "metadata": {
    "scrolled": false,
    "ExecuteTime": {
     "end_time": "2025-08-17T19:17:46.862903Z",
     "start_time": "2025-08-17T19:17:46.856814Z"
    }
   },
   "outputs": [],
   "source": [
    "final_df = pd.DataFrame()\n",
    "final_df['size'] = leaves_sizes\n",
    "final_df['model'] = MODELS"
   ]
  },
  {
   "cell_type": "code",
   "execution_count": 24,
   "id": "23fc7f8f",
   "metadata": {
    "ExecuteTime": {
     "end_time": "2025-08-17T19:17:47.502812Z",
     "start_time": "2025-08-17T19:17:47.495833Z"
    }
   },
   "outputs": [],
   "source": [
    "final_df = final_df.sort_values('size', ascending=False)"
   ]
  },
  {
   "cell_type": "code",
   "execution_count": 25,
   "id": "5098473f",
   "metadata": {
    "ExecuteTime": {
     "end_time": "2025-08-17T19:17:48.015639Z",
     "start_time": "2025-08-17T19:17:48.009770Z"
    }
   },
   "outputs": [],
   "source": [
    "models_top = np.array(final_df.iloc[:5, 1])"
   ]
  },
  {
   "cell_type": "code",
   "execution_count": 26,
   "id": "1be2d983",
   "metadata": {
    "ExecuteTime": {
     "end_time": "2025-08-17T19:17:48.572637Z",
     "start_time": "2025-08-17T19:17:48.561381Z"
    }
   },
   "outputs": [],
   "source": [
    "def plot_ci(MODELS, feature_id, epic_id=None, feature_names=feature_names_2, intercept=True, sort=True, log_trans=True, ax=None, yticklabels=True, title=True):\n",
    "    if ax == None:\n",
    "        f, ax = plt.subplots(1,1,figsize=(3,7),dpi=600)\n",
    "    \n",
    "    param = np.array([MODELS[i].params for i in range(len(MODELS))])\n",
    "    cilb = np.transpose([MODELS[i].conf_int() for i in range(len(MODELS))])[0]\n",
    "    ciub = np.transpose([MODELS[i].conf_int() for i in range(len(MODELS))])[1]\n",
    "\n",
    "    if epic_id == None:\n",
    "        epic_id = range(param.shape[0])\n",
    "\n",
    "    def log(x): return np.sign(x)*np.log(np.abs(x)+1)\n",
    "    if log_trans:\n",
    "        param = log(param)\n",
    "        cilb = log(cilb)\n",
    "        ciub = log(ciub)\n",
    "\n",
    "    param = param[epic_id,:]\n",
    "    cilb = cilb[:,epic_id]\n",
    "    ciub = ciub[:,epic_id]\n",
    "\n",
    "    data_dict = {}\n",
    "    data_dict['category'] = ['ELC'+str(i+1) for i in epic_id]\n",
    "    data_dict['coef'] = param[:,feature_id]\n",
    "    data_dict['lower'] = cilb[feature_id,:]\n",
    "    data_dict['upper'] = ciub[feature_id,:]\n",
    "    dataset = pd.DataFrame(data_dict)\n",
    "    \n",
    "    defcol = plt.rcParams['axes.prop_cycle'].by_key()['color']\n",
    "    \n",
    "    for coef,lower,upper,y in zip(dataset['coef'],dataset['lower'],dataset['upper'],range(len(dataset))):\n",
    "        ax.plot((lower,upper),(y,y),'-',color='#74a9cf', linewidth=3, alpha=0.9)\n",
    "        ax.scatter(coef,y,color='black')\n",
    "    ax.set_yticks(range(len(dataset)))\n",
    "    ax.set_yticklabels(list(dataset['category']))\n",
    "    ax.axvline(x=0,color='black',linewidth=1)\n",
    "    if title:\n",
    "        ax.set_title(feature_names[feature_id])"
   ]
  },
  {
   "cell_type": "code",
   "execution_count": 27,
   "id": "919db745",
   "metadata": {
    "ExecuteTime": {
     "end_time": "2025-08-17T19:17:49.385021Z",
     "start_time": "2025-08-17T19:17:49.187171Z"
    }
   },
   "outputs": [],
   "source": [
    "from mpl_toolkits.axes_grid1 import make_axes_locatable\n",
    "\n",
    "def plot_mosaic(MODELS, epic_id=None, feature_names=feature_names_2, intercept=True, sort=True, log_trans=True, ax=None):\n",
    "    if ax == None:\n",
    "        f, ax = plt.subplots(figsize=(7,3),dpi=300)\n",
    "    \n",
    "    cmap=plt.get_cmap('RdBu_r')\n",
    "    param = np.array([MODELS[i].params for i in range(len(MODELS))])\n",
    "\n",
    "    if epic_id == None:\n",
    "        epic_id = range(param.shape[0])\n",
    "\n",
    "    if log_trans:\n",
    "        param = np.sign(param)*np.log(np.abs(param)+1)\n",
    "\n",
    "    param = param[epic_id,:]\n",
    "\n",
    "    if intercept:\n",
    "        feature_names = np.concatenate([['intercept'],feature_names])\n",
    "\n",
    "    vmax = np.max(np.abs(param))\n",
    "    im = ax.imshow(param, cmap=cmap, vmin=-vmax, vmax=vmax)\n",
    "\n",
    "    plt.xticks(ticks=range(0,len(feature_names)))\n",
    "    ax.set_xticklabels(feature_names, rotation = 90)\n",
    "    plt.yticks(ticks=range(0,len(epic_id)), labels = [i+1 for i in epic_id])\n",
    "    plt.ylabel('ELC')\n",
    "    plt.xlabel('Variable')\n",
    "\n",
    "\n",
    "    divider = make_axes_locatable(ax)\n",
    "    cax = divider.append_axes(\"right\", size=\"5%\", pad=0.05)\n",
    "    plt.colorbar(im, cax=cax)"
   ]
  },
  {
   "cell_type": "code",
   "execution_count": 28,
   "id": "bc4a5ddd",
   "metadata": {
    "scrolled": true,
    "ExecuteTime": {
     "end_time": "2025-08-17T19:17:50.374379Z",
     "start_time": "2025-08-17T19:17:50.128249Z"
    }
   },
   "outputs": [
    {
     "data": {
      "text/plain": "<Figure size 2000x1000 with 2 Axes>",
      "image/png": "[encoded data removed]"
     },
     "metadata": {},
     "output_type": "display_data"
    }
   ],
   "source": [
    "from matplotlib import pyplot as plt\n",
    "import importlib\n",
    "\n",
    "fig, ax = plt.subplots(figsize=(20, 10))\n",
    "plot_mosaic(models_top, epic_id=range(5), log_trans=False, ax=ax)\n",
    "# plt.savefig('Bike_Sharing_heatmap_2.pdf')"
   ]
  },
  {
   "cell_type": "code",
   "execution_count": 29,
   "id": "548d9cb9",
   "metadata": {
    "scrolled": true,
    "ExecuteTime": {
     "end_time": "2025-08-17T19:17:52.406377Z",
     "start_time": "2025-08-17T19:17:51.714255Z"
    }
   },
   "outputs": [
    {
     "data": {
      "text/plain": "<Figure size 3000x6000 with 4 Axes>",
      "image/png": "[encoded data removed]"
     },
     "metadata": {},
     "output_type": "display_data"
    }
   ],
   "source": [
    "f, axs = plt.subplots(4,1,figsize=(5,10),dpi=600)\n",
    "plt.subplots_adjust(hspace=0.4)\n",
    "for i in range(4):\n",
    "    j = (2,3,5,4)[i]\n",
    "    ax = plt.subplot(4,1,i+1)\n",
    "    plot_ci(models_top,j,epic_id=range(5),ax=ax,title=True)\n",
    "    \n",
    "# plt.subplots_adjust(hspace=0.5)"
   ]
  },
  {
   "cell_type": "code",
   "execution_count": null,
   "outputs": [],
   "source": [],
   "metadata": {
    "collapsed": false,
    "ExecuteTime": {
     "start_time": "2025-08-17T18:25:30.529560Z"
    }
   },
   "id": "92b561d4bcc952ae"
  },
  {
   "cell_type": "code",
   "execution_count": null,
   "outputs": [],
   "source": [],
   "metadata": {
    "collapsed": false
   },
   "id": "7f4450dbbd50a7c4"
  }
 ],
 "metadata": {
  "kernelspec": {
   "display_name": "Python 3 (ipykernel)",
   "language": "python",
   "name": "python3"
  },
  "language_info": {
   "codemirror_mode": {
    "name": "ipython",
    "version": 3
   },
   "file_extension": ".py",
   "mimetype": "text/x-python",
   "name": "python",
   "nbconvert_exporter": "python",
   "pygments_lexer": "ipython3",
   "version": "3.10.4"
  }
 },
 "nbformat": 4,
 "nbformat_minor": 5
}
